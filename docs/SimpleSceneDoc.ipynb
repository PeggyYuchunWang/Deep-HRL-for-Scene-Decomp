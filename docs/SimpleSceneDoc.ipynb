{
 "cells": [
  {
   "cell_type": "code",
   "execution_count": 1,
   "metadata": {},
   "outputs": [
    {
     "name": "stderr",
     "output_type": "stream",
     "text": [
      "┌ Info: Loading Cairo backend into Compose.jl\n",
      "└ @ Compose /Users/pegasus/.julia/packages/Compose/wlPCt/src/Compose.jl:164\n"
     ]
    },
    {
     "data": {
      "text/html": [
       "    <script class='js-collapse-script'>\n",
       "        var curMatch =\n",
       "            window.location.href\n",
       "            .match(/(.*?)\\/notebooks\\/.*\\.ipynb/);\n",
       "\n",
       "        curMatch = curMatch ||\n",
       "            window.location.href\n",
       "            .match(/(.*?)\\/apps\\/.*\\.ipynb/);\n",
       "\n",
       "        if ( curMatch ) {\n",
       "            $('head').append('<base href=\"' + curMatch[1] + '/\">');\n",
       "        }\n",
       "    </script>\n"
      ],
      "text/plain": [
       "HTML{String}(\"    <script class='js-collapse-script'>\\n        var curMatch =\\n            window.location.href\\n            .match(/(.*?)\\\\/notebooks\\\\/.*\\\\.ipynb/);\\n\\n        curMatch = curMatch ||\\n            window.location.href\\n            .match(/(.*?)\\\\/apps\\\\/.*\\\\.ipynb/);\\n\\n        if ( curMatch ) {\\n            \\$('head').append('<base href=\\\"' + curMatch[1] + '/\\\">');\\n        }\\n    </script>\\n\")"
      ]
     },
     "metadata": {},
     "output_type": "display_data"
    },
    {
     "data": {
      "text/html": [
       "<script class='js-collapse-script' src='/assetserver/c4cc9f5792a6a99cf8c8f95031318a0990508355-assets/webio/dist/bundle.js'></script>"
      ],
      "text/plain": [
       "HTML{String}(\"<script class='js-collapse-script' src='/assetserver/c4cc9f5792a6a99cf8c8f95031318a0990508355-assets/webio/dist/bundle.js'></script>\")"
      ]
     },
     "metadata": {},
     "output_type": "display_data"
    },
    {
     "data": {
      "text/html": [
       "<script class='js-collapse-script' src='/assetserver/c4cc9f5792a6a99cf8c8f95031318a0990508355-assets/providers/ijulia_setup.js'></script>"
      ],
      "text/plain": [
       "HTML{String}(\"<script class='js-collapse-script' src='/assetserver/c4cc9f5792a6a99cf8c8f95031318a0990508355-assets/providers/ijulia_setup.js'></script>\")"
      ]
     },
     "metadata": {},
     "output_type": "display_data"
    },
    {
     "data": {
      "text/html": [
       "  <script class='js-collapse-script'>\n",
       "    $('.js-collapse-script').parent('.output_subarea').css('padding', '0');\n",
       "  </script>\n"
      ],
      "text/plain": [
       "HTML{String}(\"  <script class='js-collapse-script'>\\n    \\$('.js-collapse-script').parent('.output_subarea').css('padding', '0');\\n  </script>\\n\")"
      ]
     },
     "metadata": {},
     "output_type": "display_data"
    },
    {
     "name": "stdout",
     "output_type": "stream",
     "text": [
      "loaded\n"
     ]
    }
   ],
   "source": [
    "using AutomotiveDrivingModels\n",
    "using AutoViz\n",
    "using DeepQLearning\n",
    "using POMDPs\n",
    "using Flux\n",
    "using POMDPModels\n",
    "using POMDPSimulators\n",
    "using Parameters\n",
    "using Reel\n",
    "using Random\n",
    "using Printf\n",
    "using POMDPSimulators\n",
    "using Interact\n",
    "using AutomotivePOMDPs\n",
    "using LinearAlgebra\n",
    "using Revise\n",
    "using RLInterface\n",
    "# using POMDPModelChecking\n",
    "using Records\n",
    "using Vec\n",
    "using AutoUrban\n",
    "using AutomotiveSensors\n",
    "using POMDPPolicies"
   ]
  },
  {
   "cell_type": "code",
   "execution_count": 2,
   "metadata": {},
   "outputs": [
    {
     "data": {
      "image/png": "[encoded data removed]",
      "text/plain": [
       "Cairo.CairoSurfaceBase{UInt32}(Ptr{Nothing} @0x00007fb1894b1e70, 1000.0, 600.0)"
      ]
     },
     "execution_count": 2,
     "metadata": {},
     "output_type": "execute_result"
    }
   ],
   "source": [
    "scene = Scene()\n",
    "timestep = 0.1\n",
    "ncars = 3\n",
    "\n",
    "carcolors = Dict{Int,Colorant}()\n",
    "carcolors[1] = colorant\"red\"\n",
    "carcolors[2] = colorant\"green\"\n",
    "carcolors[3] = colorant\"green\"\n",
    "\n",
    "models = Dict{Int, DriverModel}()\n",
    "models[1] = Tim2DDriver(timestep, rec=SceneRecord(1, timestep, ncars))\n",
    "models[2] = Tim2DDriver(timestep, rec=SceneRecord(1, timestep, ncars))\n",
    "models[3] = Tim2DDriver(timestep, rec=SceneRecord(1, timestep, ncars))\n",
    "\n",
    "road_length = 100.0 # [meters]\n",
    "roadway = gen_straight_roadway(2, road_length)\n",
    "def = VehicleDef()\n",
    "\n",
    "state1 = VehicleState(Frenet(roadway[LaneTag(1,1)],0.0), roadway, 0.0)\n",
    "veh1 = Vehicle(state1, def, 1)\n",
    "\n",
    "state2 = VehicleState(Frenet(roadway[LaneTag(1,2)],0.0), roadway, 0.0)\n",
    "veh2 = Vehicle(state2, def, 2)\n",
    "\n",
    "state3 = VehicleState(Frenet(roadway[LaneTag(1,2)],10.0), roadway, 0.0)\n",
    "veh3 = Vehicle(state3, def, 3)\n",
    "\n",
    "push!(scene, veh1)\n",
    "push!(scene, veh2)\n",
    "push!(scene, veh3)\n",
    "\n",
    "AutoViz.render(scene, roadway, cam=FitToContentCamera(), car_colors=carcolors)"
   ]
  },
  {
   "cell_type": "code",
   "execution_count": 3,
   "metadata": {},
   "outputs": [
    {
     "name": "stdout",
     "output_type": "stream",
     "text": [
      "search: \u001b[0m\u001b[1ma\u001b[22m\u001b[0m\u001b[1mc\u001b[22m\u001b[0m\u001b[1mt\u001b[22m\u001b[0m\u001b[1mi\u001b[22m\u001b[0m\u001b[1mo\u001b[22m\u001b[0m\u001b[1mn\u001b[22m\u001b[0m\u001b[1mv\u001b[22m\u001b[0m\u001b[1ma\u001b[22m\u001b[0m\u001b[1ml\u001b[22m\u001b[0m\u001b[1mu\u001b[22m\u001b[0m\u001b[1me\u001b[22m\u001b[0m\u001b[1ms\u001b[22m\n",
      "\n"
     ]
    },
    {
     "data": {
      "text/latex": [
       "\\begin{verbatim}\n",
       "actionvalues(p::Policy, s)\n",
       "\\end{verbatim}\n",
       "returns the values of each action at state s in a vector\n",
       "\n"
      ],
      "text/markdown": [
       "```\n",
       "actionvalues(p::Policy, s)\n",
       "```\n",
       "\n",
       "returns the values of each action at state s in a vector\n"
      ],
      "text/plain": [
       "\u001b[36m  actionvalues(p::Policy, s)\u001b[39m\n",
       "\n",
       "  returns the values of each action at state s in a vector"
      ]
     },
     "execution_count": 3,
     "metadata": {},
     "output_type": "execute_result"
    }
   ],
   "source": [
    "?actionvalues"
   ]
  },
  {
   "cell_type": "code",
   "execution_count": 4,
   "metadata": {},
   "outputs": [
    {
     "name": "stdout",
     "output_type": "stream",
     "text": [
      "Frenet(RoadIndex({1, 0.000000}, {1, 1}), 0.000, 0.000, 0.000)\n"
     ]
    }
   ],
   "source": [
    "println(veh1.state.posF)"
   ]
  },
  {
   "cell_type": "code",
   "execution_count": 5,
   "metadata": {},
   "outputs": [
    {
     "name": "stderr",
     "output_type": "stream",
     "text": [
      "WARNING: both RLInterface and AutoViz export \"render\"; uses of it in module Main must be qualified\n"
     ]
    },
    {
     "ename": "UndefVarError",
     "evalue": "UndefVarError: render not defined",
     "output_type": "error",
     "traceback": [
      "UndefVarError: render not defined",
      "",
      "Stacktrace:",
      " [1] top-level scope at In[5]:1"
     ]
    }
   ],
   "source": [
    "methods(render)"
   ]
  },
  {
   "cell_type": "code",
   "execution_count": 6,
   "metadata": {},
   "outputs": [
    {
     "data": {
      "image/png": "[encoded data removed]",
      "text/plain": [
       "Cairo.CairoSurfaceBase{UInt32}(Ptr{Nothing} @0x00007fb18903f5f0, 1000.0, 600.0)"
      ]
     },
     "execution_count": 6,
     "metadata": {},
     "output_type": "execute_result"
    }
   ],
   "source": [
    "nticks = 100\n",
    "rec = SceneRecord(nticks+1, timestep)\n",
    "simulate!(rec, scene, roadway, models, nticks)\n",
    "AutoViz.render(rec[0], roadway, cam=FitToContentCamera(), car_colors=carcolors)"
   ]
  },
  {
   "cell_type": "code",
   "execution_count": 7,
   "metadata": {},
   "outputs": [
    {
     "data": {
      "text/html": [
       "<div class='tex2jax_ignore interactbulma'>\n",
       "<div class='display:none'></div><unsafe-script style='display:none'>\n",
       "WebIO.mount(this.previousSibling,{&quot;props&quot;:{},&quot;nodeType&quot;:&quot;DOM&quot;,&quot;type&quot;:&quot;node&quot;,&quot;instanceArgs&quot;:{&quot;namespace&quot;:&quot;html&quot;,&quot;tag&quot;:&quot;div&quot;},&quot;children&quot;:[{&quot;props&quot;:{&quot;className&quot;:&quot;field&quot;},&quot;nodeType&quot;:&quot;DOM&quot;,&quot;type&quot;:&quot;node&quot;,&quot;instanceArgs&quot;:{&quot;namespace&quot;:&quot;html&quot;,&quot;tag&quot;:&quot;div&quot;},&quot;children&quot;:[{&quot;props&quot;:{},&quot;nodeType&quot;:&quot;Scope&quot;,&quot;type&quot;:&quot;node&quot;,&quot;instanceArgs&quot;:{&quot;imports&quot;:{&quot;data&quot;:[{&quot;name&quot;:&quot;knockout&quot;,&quot;type&quot;:&quot;js&quot;,&quot;url&quot;:&quot;/assetserver/61a9f67ba69555efae2cea8d149efd17e512c51c-knockout.js&quot;},{&quot;name&quot;:&quot;knockout_punches&quot;,&quot;type&quot;:&quot;js&quot;,&quot;url&quot;:&quot;/assetserver/649013d3a15d9fd4732b810fea33e964579b2cb2-knockout_punches.js&quot;},{&quot;name&quot;:null,&quot;type&quot;:&quot;js&quot;,&quot;url&quot;:&quot;/assetserver/b322e5ee767357a09f606d7654a48f7162c3189d-all.js&quot;},{&quot;name&quot;:null,&quot;type&quot;:&quot;css&quot;,&quot;url&quot;:&quot;/assetserver/e5cd33a55833c7945db8a2bc43edaa09d50c20eb-style.css&quot;},{&quot;name&quot;:null,&quot;type&quot;:&quot;css&quot;,&quot;url&quot;:&quot;/assetserver/71b3f0054d5835d4414dd917b471626e26ef2ef5-main.css&quot;}],&quot;type&quot;:&quot;async_block&quot;},&quot;id&quot;:&quot;knockout-component-b6233f10-018d-4a1f-8dc2-22c66152cf8b&quot;,&quot;handlers&quot;:{&quot;_promises&quot;:{&quot;importsLoaded&quot;:[function (ko, koPunches) {\n",
       "    ko.punches.enableAll();\n",
       "    ko.bindingHandlers.numericValue = {\n",
       "        init : function(element, valueAccessor, allBindings, data, context) {\n",
       "            var stringified = ko.observable(ko.unwrap(valueAccessor()));\n",
       "            stringified.subscribe(function(value) {\n",
       "                var val = parseFloat(value);\n",
       "                if (!isNaN(val)) {\n",
       "                    valueAccessor()(val);\n",
       "                }\n",
       "            })\n",
       "            valueAccessor().subscribe(function(value) {\n",
       "                var str = JSON.stringify(value);\n",
       "                if ((str == &quot;0&quot;) &amp;&amp; ([&quot;-0&quot;, &quot;-0.&quot;].indexOf(stringified()) &gt;= 0))\n",
       "                     return;\n",
       "                 if ([&quot;null&quot;, &quot;&quot;].indexOf(str) &gt;= 0)\n",
       "                     return;\n",
       "                stringified(str);\n",
       "            })\n",
       "            ko.applyBindingsToNode(element, { value: stringified, valueUpdate: allBindings.get(&#39;valueUpdate&#39;)}, context);\n",
       "        }\n",
       "    };\n",
       "    var json_data = JSON.parse(&quot;{\\&quot;changes\\&quot;:0,\\&quot;value\\&quot;:51}&quot;);\n",
       "    var self = this;\n",
       "    function AppViewModel() {\n",
       "        for (var key in json_data) {\n",
       "            var el = json_data[key];\n",
       "            this[key] = Array.isArray(el) ? ko.observableArray(el) : ko.observable(el);\n",
       "        }\n",
       "        \n",
       "        \n",
       "        [this[&quot;changes&quot;].subscribe((function (val){!(this.valueFromJulia[&quot;changes&quot;]) ? (WebIO.setval({&quot;name&quot;:&quot;changes&quot;,&quot;scope&quot;:&quot;knockout-component-b6233f10-018d-4a1f-8dc2-22c66152cf8b&quot;,&quot;id&quot;:&quot;ob_02&quot;,&quot;type&quot;:&quot;observable&quot;},val)) : undefined; return this.valueFromJulia[&quot;changes&quot;]=false}),self),this[&quot;value&quot;].subscribe((function (val){!(this.valueFromJulia[&quot;value&quot;]) ? (WebIO.setval({&quot;name&quot;:&quot;value&quot;,&quot;scope&quot;:&quot;knockout-component-b6233f10-018d-4a1f-8dc2-22c66152cf8b&quot;,&quot;id&quot;:&quot;ob_01&quot;,&quot;type&quot;:&quot;observable&quot;},val)) : undefined; return this.valueFromJulia[&quot;value&quot;]=false}),self)]\n",
       "        \n",
       "    }\n",
       "    self.model = new AppViewModel();\n",
       "    self.valueFromJulia = {};\n",
       "    for (var key in json_data) {\n",
       "        self.valueFromJulia[key] = false;\n",
       "    }\n",
       "    ko.applyBindings(self.model, self.dom);\n",
       "}\n",
       "]},&quot;changes&quot;:[(function (val){return (val!=this.model[&quot;changes&quot;]()) ? (this.valueFromJulia[&quot;changes&quot;]=true, this.model[&quot;changes&quot;](val)) : undefined})],&quot;value&quot;:[(function (val){return (val!=this.model[&quot;value&quot;]()) ? (this.valueFromJulia[&quot;value&quot;]=true, this.model[&quot;value&quot;](val)) : undefined})]},&quot;systemjs_options&quot;:null,&quot;observables&quot;:{&quot;changes&quot;:{&quot;sync&quot;:false,&quot;id&quot;:&quot;ob_02&quot;,&quot;value&quot;:0},&quot;value&quot;:{&quot;sync&quot;:true,&quot;id&quot;:&quot;ob_01&quot;,&quot;value&quot;:51}}},&quot;children&quot;:[{&quot;props&quot;:{&quot;attributes&quot;:{&quot;class&quot;:&quot;interact-flex-row&quot;}},&quot;nodeType&quot;:&quot;DOM&quot;,&quot;type&quot;:&quot;node&quot;,&quot;instanceArgs&quot;:{&quot;namespace&quot;:&quot;html&quot;,&quot;tag&quot;:&quot;div&quot;},&quot;children&quot;:[{&quot;props&quot;:{&quot;attributes&quot;:{&quot;class&quot;:&quot;interact-flex-row-left&quot;}},&quot;nodeType&quot;:&quot;DOM&quot;,&quot;type&quot;:&quot;node&quot;,&quot;instanceArgs&quot;:{&quot;namespace&quot;:&quot;html&quot;,&quot;tag&quot;:&quot;div&quot;},&quot;children&quot;:[{&quot;props&quot;:{&quot;className&quot;:&quot;interact &quot;,&quot;style&quot;:{&quot;padding&quot;:&quot;5px 10px 0px 10px&quot;}},&quot;nodeType&quot;:&quot;DOM&quot;,&quot;type&quot;:&quot;node&quot;,&quot;instanceArgs&quot;:{&quot;namespace&quot;:&quot;html&quot;,&quot;tag&quot;:&quot;label&quot;},&quot;children&quot;:[&quot;frame_index&quot;]}]},{&quot;props&quot;:{&quot;attributes&quot;:{&quot;class&quot;:&quot;interact-flex-row-center&quot;}},&quot;nodeType&quot;:&quot;DOM&quot;,&quot;type&quot;:&quot;node&quot;,&quot;instanceArgs&quot;:{&quot;namespace&quot;:&quot;html&quot;,&quot;tag&quot;:&quot;div&quot;},&quot;children&quot;:[{&quot;props&quot;:{&quot;max&quot;:101,&quot;min&quot;:1,&quot;attributes&quot;:{&quot;type&quot;:&quot;range&quot;,&quot;data-bind&quot;:&quot;numericValue: value, valueUpdate: &#39;input&#39;, event: {change : function () {this.changes(this.changes()+1)}}&quot;,&quot;orient&quot;:&quot;horizontal&quot;},&quot;step&quot;:1,&quot;className&quot;:&quot;slider slider is-fullwidth&quot;,&quot;style&quot;:{}},&quot;nodeType&quot;:&quot;DOM&quot;,&quot;type&quot;:&quot;node&quot;,&quot;instanceArgs&quot;:{&quot;namespace&quot;:&quot;html&quot;,&quot;tag&quot;:&quot;input&quot;},&quot;children&quot;:[]}]},{&quot;props&quot;:{&quot;attributes&quot;:{&quot;class&quot;:&quot;interact-flex-row-right&quot;}},&quot;nodeType&quot;:&quot;DOM&quot;,&quot;type&quot;:&quot;node&quot;,&quot;instanceArgs&quot;:{&quot;namespace&quot;:&quot;html&quot;,&quot;tag&quot;:&quot;div&quot;},&quot;children&quot;:[{&quot;props&quot;:{&quot;attributes&quot;:{&quot;data-bind&quot;:&quot;text: value&quot;}},&quot;nodeType&quot;:&quot;DOM&quot;,&quot;type&quot;:&quot;node&quot;,&quot;instanceArgs&quot;:{&quot;namespace&quot;:&quot;html&quot;,&quot;tag&quot;:&quot;p&quot;},&quot;children&quot;:[]}]}]}]}]},{&quot;props&quot;:{},&quot;nodeType&quot;:&quot;Scope&quot;,&quot;type&quot;:&quot;node&quot;,&quot;instanceArgs&quot;:{&quot;imports&quot;:{&quot;data&quot;:[],&quot;type&quot;:&quot;async_block&quot;},&quot;id&quot;:&quot;scope-a9bb575e-303d-4208-b276-7fb6f8a89512&quot;,&quot;handlers&quot;:{&quot;obs-output&quot;:[function (updated_htmlstr) {\n",
       "    var el = this.dom.querySelector(&quot;#out&quot;);\n",
       "    WebIO.propUtils.setInnerHtml(el, updated_htmlstr);\n",
       "}]},&quot;systemjs_options&quot;:null,&quot;observables&quot;:{&quot;obs-output&quot;:{&quot;sync&quot;:false,&quot;id&quot;:&quot;ob_05&quot;,&quot;value&quot;:&quot;&lt;div class=&#39;display:none&#39;&gt;&lt;/div&gt;&lt;unsafe-script style=&#39;display:none&#39;&gt;\\nWebIO.mount(this.previousSibling,{&amp;quot;props&amp;quot;:{&amp;quot;attributes&amp;quot;:{&amp;quot;class&amp;quot;:&amp;quot;interact-flex-row&amp;quot;}},&amp;quot;nodeType&amp;quot;:&amp;quot;DOM&amp;quot;,&amp;quot;type&amp;quot;:&amp;quot;node&amp;quot;,&amp;quot;instanceArgs&amp;quot;:{&amp;quot;namespace&amp;quot;:&amp;quot;html&amp;quot;,&amp;quot;tag&amp;quot;:&amp;quot;div&amp;quot;},&amp;quot;children&amp;quot;:[{&amp;quot;props&amp;quot;:{&amp;quot;setInnerHtml&amp;quot;:&amp;quot;&amp;lt;img src=&amp;#39;data:image/png;base64,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&amp;#39;&amp;gt;&amp;lt;/img&amp;gt;&amp;quot;},&amp;quot;nodeType&amp;quot;:&amp;quot;DOM&amp;quot;,&amp;quot;type&amp;quot;:&amp;quot;node&amp;quot;,&amp;quot;instanceArgs&amp;quot;:{&amp;quot;namespace&amp;quot;:&amp;quot;html&amp;quot;,&amp;quot;tag&amp;quot;:&amp;quot;div&amp;quot;},&amp;quot;children&amp;quot;:[]}]})&lt;/unsafe-script&gt;&quot;}}},&quot;children&quot;:[{&quot;props&quot;:{&quot;id&quot;:&quot;out&quot;,&quot;setInnerHtml&quot;:&quot;&lt;div class=&#39;display:none&#39;&gt;&lt;/div&gt;&lt;unsafe-script style=&#39;display:none&#39;&gt;\\nWebIO.mount(this.previousSibling,{&amp;quot;props&amp;quot;:{&amp;quot;attributes&amp;quot;:{&amp;quot;class&amp;quot;:&amp;quot;interact-flex-row&amp;quot;}},&amp;quot;nodeType&amp;quot;:&amp;quot;DOM&amp;quot;,&amp;quot;type&amp;quot;:&amp;quot;node&amp;quot;,&amp;quot;instanceArgs&amp;quot;:{&amp;quot;namespace&amp;quot;:&amp;quot;html&amp;quot;,&amp;quot;tag&amp;quot;:&amp;quot;div&amp;quot;},&amp;quot;children&amp;quot;:[{&amp;quot;props&amp;quot;:{&amp;quot;setInnerHtml&amp;quot;:&amp;quot;&amp;lt;img src=&amp;#39;data:image/png;base64,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&amp;#39;&amp;gt;&amp;lt;/img&amp;gt;&amp;quot;},&amp;quot;nodeType&amp;quot;:&amp;quot;DOM&amp;quot;,&amp;quot;type&amp;quot;:&amp;quot;node&amp;quot;,&amp;quot;instanceArgs&amp;quot;:{&amp;quot;namespace&amp;quot;:&amp;quot;html&amp;quot;,&amp;quot;tag&amp;quot;:&amp;quot;div&amp;quot;},&amp;quot;children&amp;quot;:[]}]})&lt;/unsafe-script&gt;&quot;},&quot;nodeType&quot;:&quot;DOM&quot;,&quot;type&quot;:&quot;node&quot;,&quot;instanceArgs&quot;:{&quot;namespace&quot;:&quot;html&quot;,&quot;tag&quot;:&quot;div&quot;},&quot;children&quot;:[]}]}]})</unsafe-script>\n",
       "</div>"
      ],
      "text/plain": [
       "Widget{:manipulate,Any}(OrderedDict{Symbol,Any}(:frame_index=>Widget{:slider,Int64}(OrderedDict{Symbol,Any}(:changes=>Observable{Int64} with 1 listeners. Value:\n",
       "0,:value=>Observable{Int64} with 2 listeners. Value:\n",
       "51), Observable{Int64} with 2 listeners. Value:\n",
       "51, Scope(\"knockout-component-b6233f10-018d-4a1f-8dc2-22c66152cf8b\", Node{DOM}(DOM(:html, :div), Any[Node{DOM}(DOM(:html, :div), Any[Node{DOM}(DOM(:html, :label), Any[\"frame_index\"], Dict{Symbol,Any}(:className=>\"interact \",:style=>Dict{Any,Any}(:padding=>\"5px 10px 0px 10px\")), 1)], Dict{Symbol,Any}(:attributes=>Dict(\"class\"=>\"interact-flex-row-left\")), 2), Node{DOM}(DOM(:html, :div), Any[Node{DOM}(DOM(:html, :input), Any[], Dict{Symbol,Any}(:max=>101,:min=>1,:attributes=>Dict{Any,Any}(:type=>\"range\",Symbol(\"data-bind\")=>\"numericValue: value, valueUpdate: 'input', event: {change : function () {this.changes(this.changes()+1)}}\",\"orient\"=>\"horizontal\"),:step=>1,:className=>\"slider slider is-fullwidth\",:style=>Dict{Any,Any}()), 0)], Dict{Symbol,Any}(:attributes=>Dict(\"class\"=>\"interact-flex-row-center\")), 1), Node{DOM}(DOM(:html, :div), Any[Node{DOM}(DOM(:html, :p), Any[], Dict{Symbol,Any}(:attributes=>Dict(\"data-bind\"=>\"text: value\")), 0)], Dict{Symbol,Any}(:attributes=>Dict(\"class\"=>\"interact-flex-row-right\")), 1)], Dict{Symbol,Any}(:attributes=>Dict(\"class\"=>\"interact-flex-row\")), 7), Dict{String,Tuple{Observables.AbstractObservable,Union{Nothing, Bool}}}(\"changes\"=>(Observable{Int64} with 1 listeners. Value:\n",
       "0, nothing),\"value\"=>(Observable{Int64} with 2 listeners. Value:\n",
       "51, nothing)), Set(String[]), nothing, Any[\"knockout\"=>\"/Users/pegasus/.julia/packages/Knockout/JIqpG/src/../assets/knockout.js\", \"knockout_punches\"=>\"/Users/pegasus/.julia/packages/Knockout/JIqpG/src/../assets/knockout_punches.js\", \"/Users/pegasus/.julia/packages/InteractBase/PTCUD/src/../assets/all.js\", \"/Users/pegasus/.julia/packages/InteractBase/PTCUD/src/../assets/style.css\", \"/Users/pegasus/.julia/packages/InteractBulma/PH56C/src/../assets/main.css\"], Dict{Any,Any}(\"_promises\"=>Dict{Any,Any}(\"importsLoaded\"=>Any[JSString(\"function (ko, koPunches) {\\n    ko.punches.enableAll();\\n    ko.bindingHandlers.numericValue = {\\n        init : function(element, valueAccessor, allBindings, data, context) {\\n            var stringified = ko.observable(ko.unwrap(valueAccessor()));\\n            stringified.subscribe(function(value) {\\n                var val = parseFloat(value);\\n                if (!isNaN(val)) {\\n                    valueAccessor()(val);\\n                }\\n            })\\n            valueAccessor().subscribe(function(value) {\\n                var str = JSON.stringify(value);\\n                if ((str == \\\"0\\\") && ([\\\"-0\\\", \\\"-0.\\\"].indexOf(stringified()) >= 0))\\n                     return;\\n                 if ([\\\"null\\\", \\\"\\\"].indexOf(str) >= 0)\\n                     return;\\n                stringified(str);\\n            })\\n            ko.applyBindingsToNode(element, { value: stringified, valueUpdate: allBindings.get('valueUpdate')}, context);\\n        }\\n    };\\n    var json_data = JSON.parse(\\\"{\\\\\\\"changes\\\\\\\":0,\\\\\\\"value\\\\\\\":51}\\\");\\n    var self = this;\\n    function AppViewModel() {\\n        for (var key in json_data) {\\n            var el = json_data[key];\\n            this[key] = Array.isArray(el) ? ko.observableArray(el) : ko.observable(el);\\n        }\\n        \\n        \\n        [this[\\\"changes\\\"].subscribe((function (val){!(this.valueFromJulia[\\\"changes\\\"]) ? (WebIO.setval({\\\"name\\\":\\\"changes\\\",\\\"scope\\\":\\\"knockout-component-b6233f10-018d-4a1f-8dc2-22c66152cf8b\\\",\\\"id\\\":\\\"ob_02\\\",\\\"type\\\":\\\"observable\\\"},val)) : undefined; return this.valueFromJulia[\\\"changes\\\"]=false}),self),this[\\\"value\\\"].subscribe((function (val){!(this.valueFromJulia[\\\"value\\\"]) ? (WebIO.setval({\\\"name\\\":\\\"value\\\",\\\"scope\\\":\\\"knockout-component-b6233f10-018d-4a1f-8dc2-22c66152cf8b\\\",\\\"id\\\":\\\"ob_01\\\",\\\"type\\\":\\\"observable\\\"},val)) : undefined; return this.valueFromJulia[\\\"value\\\"]=false}),self)]\\n        \\n    }\\n    self.model = new AppViewModel();\\n    self.valueFromJulia = {};\\n    for (var key in json_data) {\\n        self.valueFromJulia[key] = false;\\n    }\\n    ko.applyBindings(self.model, self.dom);\\n}\\n\")]),\"changes\"=>Any[JSString(\"(function (val){return (val!=this.model[\\\"changes\\\"]()) ? (this.valueFromJulia[\\\"changes\\\"]=true, this.model[\\\"changes\\\"](val)) : undefined})\")],\"value\"=>Any[JSString(\"(function (val){return (val!=this.model[\\\"value\\\"]()) ? (this.valueFromJulia[\\\"value\\\"]=true, this.model[\\\"value\\\"](val)) : undefined})\")]), ConnectionPool(Channel{Any}(sz_max:9223372036854775807,sz_curr:3), Set(AbstractConnection[]), Channel{AbstractConnection}(sz_max:32,sz_curr:0))), ##52#53{#dom#15{##dom#13#14{Dict{Any,Any},DOM}},typeof(scope)}(#dom#15{##dom#13#14{Dict{Any,Any},DOM}}(##dom#13#14{Dict{Any,Any},DOM}(Dict{Any,Any}(:className=>\"field\"), DOM(:html, :div))), scope))), Observable{Any} with 0 listeners. Value:\n",
       "Cairo.CairoSurfaceBase{UInt32}(Ptr{Nothing} @0x00007fb1893cb600, 1000.0, 600.0), nothing, getfield(InteractBase, Symbol(\"##142#143\"))())"
      ]
     },
     "execution_count": 7,
     "metadata": {},
     "output_type": "execute_result"
    }
   ],
   "source": [
    "@manipulate for frame_index in 1 : nframes(rec)\n",
    "    AutoViz.render(rec[frame_index-nframes(rec)], roadway, cam=FitToContentCamera(), car_colors=carcolors)\n",
    "end"
   ]
  },
  {
   "cell_type": "code",
   "execution_count": 8,
   "metadata": {},
   "outputs": [
    {
     "name": "stdout",
     "output_type": "stream",
     "text": [
      "const LAT_LON_ACTIONS = [LatLonAccel(y, x) for x = -2:1.0:2 for y = -1:0.1:1] = LatLonAccel[LatLonAccel(-1.000, -2.000), LatLonAccel(-0.900, -2.000), LatLonAccel(-0.800, -2.000), LatLonAccel(-0.700, -2.000), LatLonAccel(-0.600, -2.000), LatLonAccel(-0.500, -2.000), LatLonAccel(-0.400, -2.000), LatLonAccel(-0.300, -2.000), LatLonAccel(-0.200, -2.000), LatLonAccel(-0.100, -2.000), LatLonAccel( 0.000, -2.000), LatLonAccel( 0.100, -2.000), LatLonAccel( 0.200, -2.000), LatLonAccel( 0.300, -2.000), LatLonAccel( 0.400, -2.000), LatLonAccel( 0.500, -2.000), LatLonAccel( 0.600, -2.000), LatLonAccel( 0.700, -2.000), LatLonAccel( 0.800, -2.000), LatLonAccel( 0.900, -2.000), LatLonAccel( 1.000, -2.000), LatLonAccel(-1.000, -1.000), LatLonAccel(-0.900, -1.000), LatLonAccel(-0.800, -1.000), LatLonAccel(-0.700, -1.000), LatLonAccel(-0.600, -1.000), LatLonAccel(-0.500, -1.000), LatLonAccel(-0.400, -1.000), LatLonAccel(-0.300, -1.000), LatLonAccel(-0.200, -1.000), LatLonAccel(-0.100, -1.000), LatLonAccel( 0.000, -1.000), LatLonAccel( 0.100, -1.000), LatLonAccel( 0.200, -1.000), LatLonAccel( 0.300, -1.000), LatLonAccel( 0.400, -1.000), LatLonAccel( 0.500, -1.000), LatLonAccel( 0.600, -1.000), LatLonAccel( 0.700, -1.000), LatLonAccel( 0.800, -1.000), LatLonAccel( 0.900, -1.000), LatLonAccel( 1.000, -1.000), LatLonAccel(-1.000,  0.000), LatLonAccel(-0.900,  0.000), LatLonAccel(-0.800,  0.000), LatLonAccel(-0.700,  0.000), LatLonAccel(-0.600,  0.000), LatLonAccel(-0.500,  0.000), LatLonAccel(-0.400,  0.000), LatLonAccel(-0.300,  0.000), LatLonAccel(-0.200,  0.000), LatLonAccel(-0.100,  0.000), LatLonAccel( 0.000,  0.000), LatLonAccel( 0.100,  0.000), LatLonAccel( 0.200,  0.000), LatLonAccel( 0.300,  0.000), LatLonAccel( 0.400,  0.000), LatLonAccel( 0.500,  0.000), LatLonAccel( 0.600,  0.000), LatLonAccel( 0.700,  0.000), LatLonAccel( 0.800,  0.000), LatLonAccel( 0.900,  0.000), LatLonAccel( 1.000,  0.000), LatLonAccel(-1.000,  1.000), LatLonAccel(-0.900,  1.000), LatLonAccel(-0.800,  1.000), LatLonAccel(-0.700,  1.000), LatLonAccel(-0.600,  1.000), LatLonAccel(-0.500,  1.000), LatLonAccel(-0.400,  1.000), LatLonAccel(-0.300,  1.000), LatLonAccel(-0.200,  1.000), LatLonAccel(-0.100,  1.000), LatLonAccel( 0.000,  1.000), LatLonAccel( 0.100,  1.000), LatLonAccel( 0.200,  1.000), LatLonAccel( 0.300,  1.000), LatLonAccel( 0.400,  1.000), LatLonAccel( 0.500,  1.000), LatLonAccel( 0.600,  1.000), LatLonAccel( 0.700,  1.000), LatLonAccel( 0.800,  1.000), LatLonAccel( 0.900,  1.000), LatLonAccel( 1.000,  1.000), LatLonAccel(-1.000,  2.000), LatLonAccel(-0.900,  2.000), LatLonAccel(-0.800,  2.000), LatLonAccel(-0.700,  2.000), LatLonAccel(-0.600,  2.000), LatLonAccel(-0.500,  2.000), LatLonAccel(-0.400,  2.000), LatLonAccel(-0.300,  2.000), LatLonAccel(-0.200,  2.000), LatLonAccel(-0.100,  2.000), LatLonAccel( 0.000,  2.000), LatLonAccel( 0.100,  2.000), LatLonAccel( 0.200,  2.000), LatLonAccel( 0.300,  2.000), LatLonAccel( 0.400,  2.000), LatLonAccel( 0.500,  2.000), LatLonAccel( 0.600,  2.000), LatLonAccel( 0.700,  2.000), LatLonAccel( 0.800,  2.000), LatLonAccel( 0.900,  2.000), LatLonAccel( 1.000,  2.000)]\n",
      "DrivingMDP() = DrivingMDP\n",
      "  r_goal: Float64 1.0\n",
      "  discount_factor: Float64 0.9\n",
      "  cost: Float64 -1.0\n",
      "  road_length: Float64 100.0\n",
      "  roadway: Roadway\n",
      "  delta_t: Float64 1.0\n",
      "  ego_id: Int64 1\n",
      "  timestep: Float64 0.1\n",
      "  n_cars: Int64 3\n",
      "  carcolors: Dict{Int64,Colorant}\n",
      "  models: Dict{Int64,DriverModel}\n",
      "  goal_pos: Frenet\n",
      "\n"
     ]
    },
    {
     "data": {
      "text/plain": [
       "DrivingMDP\n",
       "  r_goal: Float64 1.0\n",
       "  discount_factor: Float64 0.9\n",
       "  cost: Float64 -1.0\n",
       "  road_length: Float64 100.0\n",
       "  roadway: Roadway\n",
       "  delta_t: Float64 1.0\n",
       "  ego_id: Int64 1\n",
       "  timestep: Float64 0.1\n",
       "  n_cars: Int64 3\n",
       "  carcolors: Dict{Int64,Colorant}\n",
       "  models: Dict{Int64,DriverModel}\n",
       "  goal_pos: Frenet\n"
      ]
     },
     "execution_count": 8,
     "metadata": {},
     "output_type": "execute_result"
    }
   ],
   "source": [
    "# state = ego vehicle state, action = tuple(long acceleration, steering)\n",
    "@with_kw struct DrivingMDP <: MDP{Scene, LatLonAccel} # MDP{State, Action}\n",
    "    r_goal::Float64 = 1.0 # reward for reaching goal (default 1)\n",
    "    discount_factor::Float64 = 0.9 # discount\n",
    "    cost::Float64 = -1.0\n",
    "    road_length::Float64 = 100.0\n",
    "    roadway::Roadway = gen_straight_roadway(2, road_length)\n",
    "    delta_t::Float64 = 1.0\n",
    "    ego_id::Int64 = 1\n",
    "    timestep::Float64 = 0.1\n",
    "    n_cars::Int64 = 3\n",
    "    carcolors::Dict{Int,Colorant} = Dict()\n",
    "    models::Dict{Int, DriverModel} = Dict()\n",
    "    goal_pos::Frenet = Frenet(roadway[LaneTag(1,2)], road_length)\n",
    "end\n",
    "\n",
    "@show const LAT_LON_ACTIONS = [LatLonAccel(y, x) for x in -2:1.0:2 for y in -1:0.1:1]\n",
    "\n",
    "function POMDPs.actions(mdp::DrivingMDP)\n",
    "    return LAT_LON_ACTIONS\n",
    "end\n",
    "\n",
    "POMDPs.n_actions(mdp::DrivingMDP) = length(LAT_LON_ACTIONS)\n",
    "@show DrivingMDP()"
   ]
  },
  {
   "cell_type": "code",
   "execution_count": 9,
   "metadata": {},
   "outputs": [],
   "source": [
    "function POMDPs.initialstate(mdp::DrivingMDP, rng::AbstractRNG)\n",
    "    scene = Scene()\n",
    "    def = VehicleDef()\n",
    "    state1 = VehicleState(Frenet(mdp.roadway[LaneTag(1,1)],0.0), mdp.roadway, 10.0)\n",
    "    veh1 = Entity(state1, def, mdp.ego_id)\n",
    "    \n",
    "    # carcolors = Dict{Int,Colorant}()\n",
    "    mdp.carcolors[1] = colorant\"red\"\n",
    "    mdp.carcolors[2] = colorant\"green\"\n",
    "    mdp.carcolors[3] = colorant\"green\"\n",
    "\n",
    "    # models = Dict{Int, DriverModel}()\n",
    "    # double check dummy\n",
    "    mdp.models[1] = AutomotivePOMDPs.EgoDriver(LatLonAccel(0.0, 0.0))\n",
    "    # mdp.models[2] = Tim2DDriver(timestep, rec=SceneRecord(1, timestep, ncars))\n",
    "    # mdp.models[3] = Tim2DDriver(timestep, rec=SceneRecord(1, timestep, ncars))\n",
    "    mdp.models[2] = AutomotivePOMDPs.EgoDriver(LatLonAccel(0.0, 0.0))\n",
    "    mdp.models[3] = AutomotivePOMDPs.EgoDriver(LatLonAccel(0.0, 0.0))\n",
    "\n",
    "    state2 = VehicleState(Frenet(roadway[LaneTag(1,2)],0.0), mdp.roadway, 0.0)\n",
    "    veh2 = Entity(state2, def, 2)\n",
    "\n",
    "    state3 = VehicleState(Frenet(roadway[LaneTag(1,2)],10.0), mdp.roadway, 0.0)\n",
    "    veh3 = Entity(state3, def, 3)\n",
    "\n",
    "    push!(scene, veh1)\n",
    "    push!(scene, veh2)\n",
    "    push!(scene, veh3)\n",
    "    return scene\n",
    "end"
   ]
  },
  {
   "cell_type": "code",
   "execution_count": 10,
   "metadata": {},
   "outputs": [
    {
     "name": "stdout",
     "output_type": "stream",
     "text": [
      "search: \u001b[0m\u001b[1mL\u001b[22m\u001b[0m\u001b[1ma\u001b[22m\u001b[0m\u001b[1mn\u001b[22m\u001b[0m\u001b[1me\u001b[22m\u001b[0m\u001b[1mT\u001b[22m\u001b[0m\u001b[1ma\u001b[22m\u001b[0m\u001b[1mg\u001b[22m has_\u001b[0m\u001b[1ml\u001b[22m\u001b[0m\u001b[1ma\u001b[22m\u001b[0m\u001b[1mn\u001b[22m\u001b[0m\u001b[1me\u001b[22m\u001b[0m\u001b[1mt\u001b[22m\u001b[0m\u001b[1ma\u001b[22m\u001b[0m\u001b[1mg\u001b[22m NU\u001b[0m\u001b[1mL\u001b[22mL_L\u001b[0m\u001b[1mA\u001b[22m\u001b[0m\u001b[1mN\u001b[22m\u001b[0m\u001b[1mE\u001b[22m\u001b[0m\u001b[1mT\u001b[22m\u001b[0m\u001b[1mA\u001b[22m\u001b[0m\u001b[1mG\u001b[22m get_neighbor_\u001b[0m\u001b[1ml\u001b[22m\u001b[0m\u001b[1ma\u001b[22m\u001b[0m\u001b[1mn\u001b[22m\u001b[0m\u001b[1me\u001b[22m\u001b[0m\u001b[1mt\u001b[22m\u001b[0m\u001b[1ma\u001b[22m\u001b[0m\u001b[1mg\u001b[22m_left\n",
      "\n"
     ]
    },
    {
     "data": {
      "text/latex": [
       "No documentation found.\n",
       "\n",
       "\\section{Summary}\n",
       "\\begin{verbatim}\n",
       "struct LaneTag <: Any\n",
       "\\end{verbatim}\n",
       "\\section{Fields}\n",
       "\\begin{verbatim}\n",
       "segment :: Int64\n",
       "lane    :: Int64\n",
       "\\end{verbatim}\n"
      ],
      "text/markdown": [
       "No documentation found.\n",
       "\n",
       "# Summary\n",
       "\n",
       "```\n",
       "struct LaneTag <: Any\n",
       "```\n",
       "\n",
       "# Fields\n",
       "\n",
       "```\n",
       "segment :: Int64\n",
       "lane    :: Int64\n",
       "```\n"
      ],
      "text/plain": [
       "  No documentation found.\n",
       "\n",
       "\u001b[1m  Summary\u001b[22m\n",
       "\u001b[1m  ≡≡≡≡≡≡≡≡≡\u001b[22m\n",
       "\n",
       "\u001b[36m  struct LaneTag <: Any\u001b[39m\n",
       "\n",
       "\u001b[1m  Fields\u001b[22m\n",
       "\u001b[1m  ≡≡≡≡≡≡≡≡\u001b[22m\n",
       "\n",
       "\u001b[36m  segment :: Int64\u001b[39m\n",
       "\u001b[36m  lane    :: Int64\u001b[39m"
      ]
     },
     "execution_count": 10,
     "metadata": {},
     "output_type": "execute_result"
    }
   ],
   "source": [
    "?LaneTag"
   ]
  },
  {
   "cell_type": "code",
   "execution_count": 11,
   "metadata": {},
   "outputs": [
    {
     "data": {
      "image/png": "[encoded data removed]",
      "text/plain": [
       "Cairo.CairoSurfaceBase{UInt32}(Ptr{Nothing} @0x00007fb18af3b330, 1000.0, 600.0)"
      ]
     },
     "execution_count": 11,
     "metadata": {},
     "output_type": "execute_result"
    }
   ],
   "source": [
    "# state2 = VehicleState(Frenet(roadway[LaneTag(1,2)],0.0), mdp.roadway, 0.0)\n",
    "veh2 = Entity(state2, def, 2)\n",
    "AutoViz.render([roadway])"
   ]
  },
  {
   "cell_type": "code",
   "execution_count": 12,
   "metadata": {},
   "outputs": [],
   "source": [
    "#generate next state\n",
    "function POMDPs.generate_s(mdp::DrivingMDP, s::Scene, a::LatLonAccel, rng::AbstractRNG)\n",
    "    sp = deepcopy(s)\n",
    "    mdp.models[mdp.ego_id].a = a\n",
    "    actions = Vector{LatLonAccel}(undef, mdp.n_cars)\n",
    "    get_actions!(actions, s, mdp.roadway, mdp.models)\n",
    "    ego = sp[findfirst(mdp.ego_id, s)]\n",
    "    tick!(sp, mdp.roadway, actions, mdp.delta_t)\n",
    "    return sp\n",
    "end"
   ]
  },
  {
   "cell_type": "code",
   "execution_count": 13,
   "metadata": {},
   "outputs": [],
   "source": [
    "function POMDPs.discount(mdp::DrivingMDP)\n",
    "    return mdp.discount_factor\n",
    "end"
   ]
  },
  {
   "cell_type": "code",
   "execution_count": 14,
   "metadata": {},
   "outputs": [
    {
     "data": {
      "text/html": [
       "2 methods for generic function <b>Type</b>:<ul><li> LatLonAccel(a_lat::<b>Float64</b>, a_lon::<b>Float64</b>) in AutomotiveDrivingModels at <a href=\"file:///Users/pegasus/.julia/packages/AutomotiveDrivingModels/JHkPm/src/2d/actions/lat_lon_accel.jl\" target=\"_blank\">/Users/pegasus/.julia/packages/AutomotiveDrivingModels/JHkPm/src/2d/actions/lat_lon_accel.jl:6</a></li> <li> LatLonAccel(a_lat, a_lon) in AutomotiveDrivingModels at <a href=\"file:///Users/pegasus/.julia/packages/AutomotiveDrivingModels/JHkPm/src/2d/actions/lat_lon_accel.jl\" target=\"_blank\">/Users/pegasus/.julia/packages/AutomotiveDrivingModels/JHkPm/src/2d/actions/lat_lon_accel.jl:6</a></li> </ul>"
      ],
      "text/plain": [
       "# 2 methods for generic function \"(::Type)\":\n",
       "[1] LatLonAccel(a_lat::Float64, a_lon::Float64) in AutomotiveDrivingModels at /Users/pegasus/.julia/packages/AutomotiveDrivingModels/JHkPm/src/2d/actions/lat_lon_accel.jl:6\n",
       "[2] LatLonAccel(a_lat, a_lon) in AutomotiveDrivingModels at /Users/pegasus/.julia/packages/AutomotiveDrivingModels/JHkPm/src/2d/actions/lat_lon_accel.jl:6"
      ]
     },
     "execution_count": 14,
     "metadata": {},
     "output_type": "execute_result"
    }
   ],
   "source": [
    "methods(LatLonAccel)"
   ]
  },
  {
   "cell_type": "code",
   "execution_count": 15,
   "metadata": {},
   "outputs": [
    {
     "data": {
      "text/latex": [
       "No documentation found.\n",
       "\n",
       "\\texttt{Flux.onehot} is a \\texttt{Function}.\n",
       "\n",
       "\\begin{verbatim}\n",
       "# 2 methods for generic function \"onehot\":\n",
       "[1] onehot(l, labels) in Flux at /Users/pegasus/.julia/packages/Flux/8XpDt/src/onehot.jl:60\n",
       "[2] onehot(l, labels, unk) in Flux at /Users/pegasus/.julia/packages/Flux/8XpDt/src/onehot.jl:66\n",
       "\\end{verbatim}\n"
      ],
      "text/markdown": [
       "No documentation found.\n",
       "\n",
       "`Flux.onehot` is a `Function`.\n",
       "\n",
       "```\n",
       "# 2 methods for generic function \"onehot\":\n",
       "[1] onehot(l, labels) in Flux at /Users/pegasus/.julia/packages/Flux/8XpDt/src/onehot.jl:60\n",
       "[2] onehot(l, labels, unk) in Flux at /Users/pegasus/.julia/packages/Flux/8XpDt/src/onehot.jl:66\n",
       "```\n"
      ],
      "text/plain": [
       "  No documentation found.\n",
       "\n",
       "  \u001b[36mFlux.onehot\u001b[39m is a \u001b[36mFunction\u001b[39m.\n",
       "\n",
       "\u001b[36m  # 2 methods for generic function \"onehot\":\u001b[39m\n",
       "\u001b[36m  [1] onehot(l, labels) in Flux at /Users/pegasus/.julia/packages/Flux/8XpDt/src/onehot.jl:60\u001b[39m\n",
       "\u001b[36m  [2] onehot(l, labels, unk) in Flux at /Users/pegasus/.julia/packages/Flux/8XpDt/src/onehot.jl:66\u001b[39m"
      ]
     },
     "execution_count": 15,
     "metadata": {},
     "output_type": "execute_result"
    }
   ],
   "source": [
    "?Flux.onehot"
   ]
  },
  {
   "cell_type": "code",
   "execution_count": 16,
   "metadata": {},
   "outputs": [],
   "source": [
    "# fits state to vector to NN, needs change, esp w/ 2 lanes\n",
    "# preallocate array\n",
    "function POMDPs.convert_s(tv::Type{V}, s::Scene, mdp::DrivingMDP) where V<:AbstractArray\n",
    "    ego = s[findfirst(mdp.ego_id, s)]\n",
    "    laneego = ego.state.posF.roadind.tag.lane\n",
    "    laneego = Flux.onehot(laneego,[1,2])\n",
    "    other_vehicles = []\n",
    "    for veh in s\n",
    "        if veh.id != mdp.ego_id\n",
    "            push!(other_vehicles, veh.state)\n",
    "        end\n",
    "    end\n",
    "    svec = Float64[ego.state.posF.s/mdp.road_length, ego.state.v/20.0, laneego...]\n",
    "    for veh in other_vehicles\n",
    "        push!(svec, veh.posF.s/mdp.road_length)\n",
    "        push!(svec, veh.v/20.0)\n",
    "        laneveh = Flux.onehot(veh.posF.roadind.tag.lane,[1,2])\n",
    "        push!(svec, laneveh...)\n",
    "    end\n",
    "    return svec\n",
    "end"
   ]
  },
  {
   "cell_type": "code",
   "execution_count": 17,
   "metadata": {},
   "outputs": [],
   "source": [
    "# convert state vector to scene object (POMDPs.convert_s(::Type{Scene}, ::V, mdp::DrivingMDP)) where V<:AbstractArray\n",
    "function POMDPs.convert_s(ts::Type{Scene}, v::V, mdp::DrivingMDP) where V<:AbstractArray\n",
    "    scene = Scene()\n",
    "    def = VehicleDef()\n",
    "    \n",
    "    lane1 = v[3] == 1 ? LaneTag(1,1) : LaneTag(1,2)\n",
    "    state1 = VehicleState(Frenet(mdp.roadway[lane1], v[1]*mdp.road_length), mdp.roadway, v[2]*20.0)\n",
    "    veh1 = Entity(state1, def, mdp.ego_id)\n",
    "    \n",
    "    \n",
    "    lane2 = v[7] == 1 ? LaneTag(1,1) : LaneTag(1,2)\n",
    "    state2 = VehicleState(Frenet(mdp.roadway[lane2], v[5]*mdp.road_length), mdp.roadway, v[6]*20.0)\n",
    "    veh2 = Entity(state2, def, 2)\n",
    "    \n",
    "    \n",
    "    lane3 = v[11] == 1 ? LaneTag(1,1) : LaneTag(1,2)\n",
    "    state3 = VehicleState(Frenet(mdp.roadway[lane3], v[9]*mdp.road_length), mdp.roadway, v[10]*20.0)\n",
    "    veh3 = Entity(state3, def, 3)\n",
    "    \n",
    "    push!(scene, veh1)\n",
    "    push!(scene, veh2)\n",
    "    push!(scene, veh3)\n",
    "    \n",
    "    return scene\n",
    "end"
   ]
  },
  {
   "cell_type": "code",
   "execution_count": 18,
   "metadata": {},
   "outputs": [
    {
     "data": {
      "text/plain": [
       "collision_helper (generic function with 1 method)"
      ]
     },
     "execution_count": 18,
     "metadata": {},
     "output_type": "execute_result"
    }
   ],
   "source": [
    "# make PR\n",
    "function collision_helper(s::Scene, mdp::DrivingMDP)\n",
    "    ego = s[findfirst(mdp.ego_id, s)]\n",
    "    for veh in s\n",
    "        if veh.id != mdp.ego_id\n",
    "            if collision_checker(ego, veh)\n",
    "                return true\n",
    "            end\n",
    "        end\n",
    "    end\n",
    "    return false\n",
    "end"
   ]
  },
  {
   "cell_type": "code",
   "execution_count": 19,
   "metadata": {},
   "outputs": [
    {
     "data": {
      "text/latex": [
       "\\texttt{Frenet} has fields \\texttt{roadind}, \\texttt{s}, \\texttt{t}, and \\texttt{ϕ}.\n",
       "\n"
      ],
      "text/markdown": [
       "`Frenet` has fields `roadind`, `s`, `t`, and `ϕ`.\n"
      ],
      "text/plain": [
       "  \u001b[36mFrenet\u001b[39m has fields \u001b[36mroadind\u001b[39m, \u001b[36ms\u001b[39m, \u001b[36mt\u001b[39m, and \u001b[36mϕ\u001b[39m."
      ]
     },
     "execution_count": 19,
     "metadata": {},
     "output_type": "execute_result"
    }
   ],
   "source": [
    "?Frenet.roadind"
   ]
  },
  {
   "cell_type": "code",
   "execution_count": 20,
   "metadata": {},
   "outputs": [
    {
     "data": {
      "text/plain": [
       "off_road (generic function with 1 method)"
      ]
     },
     "execution_count": 20,
     "metadata": {},
     "output_type": "execute_result"
    }
   ],
   "source": [
    "function off_road(s::Scene, mdp::DrivingMDP)\n",
    "    ego = s[findfirst(mdp.ego_id, s)]\n",
    "    if abs(ego.state.posF.t) >= 1.5\n",
    "        return true\n",
    "    end\n",
    "    return false\n",
    "end"
   ]
  },
  {
   "cell_type": "code",
   "execution_count": 21,
   "metadata": {},
   "outputs": [],
   "source": [
    "# needs change, terminal both lanes, collision\n",
    "function POMDPs.isterminal(mdp::DrivingMDP, s::Scene)\n",
    "    ego = s[findfirst(mdp.ego_id, s)]\n",
    "    if ego.state.posF.s >= mdp.road_length || collision_helper(s, mdp) || off_road(s, mdp)\n",
    "        return true\n",
    "    else\n",
    "        return false\n",
    "    end\n",
    "end"
   ]
  },
  {
   "cell_type": "code",
   "execution_count": 22,
   "metadata": {},
   "outputs": [
    {
     "data": {
      "text/plain": [
       "distance (generic function with 1 method)"
      ]
     },
     "execution_count": 22,
     "metadata": {},
     "output_type": "execute_result"
    }
   ],
   "source": [
    "function distance(s::Scene, mdp::DrivingMDP)\n",
    "    ego = s[findfirst(mdp.ego_id, s)]\n",
    "    goal = get_posG(mdp.goal_pos, mdp.roadway)\n",
    "    d = norm(VecE2(goal - ego.state.posG))\n",
    "    return d\n",
    "end"
   ]
  },
  {
   "cell_type": "code",
   "execution_count": 23,
   "metadata": {},
   "outputs": [
    {
     "data": {
      "text/plain": [
       "reachgoal (generic function with 1 method)"
      ]
     },
     "execution_count": 23,
     "metadata": {},
     "output_type": "execute_result"
    }
   ],
   "source": [
    "# needs change\n",
    "function reachgoal(s::Scene, mdp::DrivingMDP)\n",
    "    ego = s[findfirst(mdp.ego_id, s)]\n",
    "    # goal = get_posG(mdp.goal_pos, mdp.roadway) get_lane\n",
    "    if mdp.goal_pos.roadind.tag == ego.state.posF.roadind.tag && ego.state.posF.s >= mdp.road_length && abs(mdp.goal_pos.t-ego.state.posF.t) <= 0.5\n",
    "        return true\n",
    "    end\n",
    "    return false\n",
    "end"
   ]
  },
  {
   "cell_type": "code",
   "execution_count": 24,
   "metadata": {},
   "outputs": [
    {
     "name": "stdout",
     "output_type": "stream",
     "text": [
      "search: \u001b[0m\u001b[1mF\u001b[22m\u001b[0m\u001b[1mr\u001b[22m\u001b[0m\u001b[1me\u001b[22m\u001b[0m\u001b[1mn\u001b[22m\u001b[0m\u001b[1me\u001b[22m\u001b[0m\u001b[1mt\u001b[22m \u001b[0m\u001b[1mF\u001b[22m\u001b[0m\u001b[1mr\u001b[22m\u001b[0m\u001b[1me\u001b[22m\u001b[0m\u001b[1mn\u001b[22m\u001b[0m\u001b[1me\u001b[22m\u001b[0m\u001b[1mt\u001b[22mRelativePosition get_\u001b[0m\u001b[1mf\u001b[22m\u001b[0m\u001b[1mr\u001b[22m\u001b[0m\u001b[1me\u001b[22m\u001b[0m\u001b[1mn\u001b[22m\u001b[0m\u001b[1me\u001b[22m\u001b[0m\u001b[1mt\u001b[22m_relative_position NULL_\u001b[0m\u001b[1mF\u001b[22m\u001b[0m\u001b[1mR\u001b[22m\u001b[0m\u001b[1mE\u001b[22m\u001b[0m\u001b[1mN\u001b[22m\u001b[0m\u001b[1mE\u001b[22m\u001b[0m\u001b[1mT\u001b[22m\n",
      "\n"
     ]
    },
    {
     "data": {
      "text/latex": [
       "Frenet \\_\\_\\_\\_\\_\\_ roadind: road index s: distance along lane t: lane offset, positive is to left. zero point is the centerline of the lane. ϕ: lane relative heading\n",
       "\n"
      ],
      "text/markdown": [
       "Frenet ______ roadind: road index s: distance along lane t: lane offset, positive is to left. zero point is the centerline of the lane. ϕ: lane relative heading\n"
      ],
      "text/plain": [
       "  Frenet ______ roadind: road index s: distance along lane t: lane offset,\n",
       "  positive is to left. zero point is the centerline of the lane. ϕ: lane\n",
       "  relative heading"
      ]
     },
     "execution_count": 24,
     "metadata": {},
     "output_type": "execute_result"
    }
   ],
   "source": [
    "?Frenet"
   ]
  },
  {
   "cell_type": "code",
   "execution_count": null,
   "metadata": {},
   "outputs": [],
   "source": []
  },
  {
   "cell_type": "code",
   "execution_count": 25,
   "metadata": {},
   "outputs": [],
   "source": [
    "# needs change, only reward for goal, neg reward for collision\n",
    "function POMDPs.reward(mdp::DrivingMDP, s::Scene, a::LatLonAccel, sp::Scene)\n",
    "    ego = s[findfirst(mdp.ego_id, s)]\n",
    "    if collision_helper(sp, mdp) || off_road(sp, mdp)\n",
    "        return -1.0\n",
    "    elseif reachgoal(sp, mdp)\n",
    "        return 1.0\n",
    "    else\n",
    "        r = -0.01*distance(sp, mdp)/mdp.road_length\n",
    "        if off_road(sp, mdp)\n",
    "#             r -= -0.01\n",
    "        end\n",
    "        return r\n",
    "    end\n",
    "end"
   ]
  },
  {
   "cell_type": "code",
   "execution_count": 26,
   "metadata": {},
   "outputs": [],
   "source": [
    "function POMDPs.actionindex(mdp::DrivingMDP, a::LatLonAccel)\n",
    "    return findfirst(isequal(a), POMDPs.actions(mdp))\n",
    "end"
   ]
  },
  {
   "cell_type": "code",
   "execution_count": 27,
   "metadata": {},
   "outputs": [
    {
     "data": {
      "text/plain": [
       "safe_actions (generic function with 1 method)"
      ]
     },
     "execution_count": 27,
     "metadata": {},
     "output_type": "execute_result"
    }
   ],
   "source": [
    "# baseline hardcoded policy, masking\n",
    "# if car on left don't go left\n",
    "# lookahead all steps lead to crash are forbidden (forward search), exploration policy in DeepQLearning, \n",
    "speed_limit = 27.0\n",
    "function safe_actions(mdp::DrivingMDP, s::Scene)\n",
    "    safe_acts = []\n",
    "    for a in actions(mdp)\n",
    "        sp = deepcopy(s)\n",
    "        action_list = LatLonAccel[LatLonAccel(0.,0.0) for veh in s if veh.id != mdp.ego_id]\n",
    "        tick!(sp, mdp.roadway, [a, action_list...], mdp.delta_t)\n",
    "        ego = sp[findfirst(mdp.ego_id, sp)]\n",
    "        if !off_road(sp, mdp) && !collision_helper(sp, mdp) && ego.state.v < speed_limit\n",
    "            push!(safe_acts, a)\n",
    "        end\n",
    "    end\n",
    "    #check off road, immediate collisions (assume other car constant speed or acc), speed limit\n",
    "    #epsilon-greedy on actions\n",
    "    return safe_acts\n",
    "end"
   ]
  },
  {
   "cell_type": "code",
   "execution_count": 28,
   "metadata": {},
   "outputs": [
    {
     "data": {
      "text/plain": [
       "(:posG, :posF, :v)"
      ]
     },
     "execution_count": 28,
     "metadata": {},
     "output_type": "execute_result"
    }
   ],
   "source": [
    "fieldnames(VehicleState)"
   ]
  },
  {
   "cell_type": "code",
   "execution_count": 29,
   "metadata": {},
   "outputs": [
    {
     "data": {
      "text/plain": [
       "safe_actions (generic function with 2 methods)"
      ]
     },
     "execution_count": 29,
     "metadata": {},
     "output_type": "execute_result"
    }
   ],
   "source": [
    "function safe_actions(mdp::DrivingMDP, o::AbstractArray)\n",
    "    s = POMDPs.convert_s(Scene, o, mdp)\n",
    "    return safe_actions(mdp, s)\n",
    "end"
   ]
  },
  {
   "cell_type": "code",
   "execution_count": 30,
   "metadata": {},
   "outputs": [
    {
     "data": {
      "text/html": [
       "18 methods for generic function <b>convert_s</b>:<ul><li> convert_s<i>{A<:AbstractArray}</i>(::<b>Type{Tuple{Float64,Float64}}</b>, s::<b>A</b>, mc::<b>MountainCar</b>) in POMDPModels at <a href=\"file:///Users/pegasus/.julia/packages/POMDPModels/wnwgU/src/MountainCar.jl\" target=\"_blank\">/Users/pegasus/.julia/packages/POMDPModels/wnwgU/src/MountainCar.jl:45</a></li> <li> convert_s<i>{A<:AbstractArray}</i>(::<b>Type{Tuple{Float64,Float64}}</b>, s::<b>A</b>, ip::<b>InvertedPendulum</b>) in POMDPModels at <a href=\"file:///Users/pegasus/.julia/packages/POMDPModels/wnwgU/src/InvertedPendulum.jl\" target=\"_blank\">/Users/pegasus/.julia/packages/POMDPModels/wnwgU/src/InvertedPendulum.jl:73</a></li> <li> convert_s<i>{A<:AbstractArray}</i>(::<b>Type{LightDark1DState}</b>, s::<b>A</b>, p::<b>LightDark1D</b>) in POMDPModels at <a href=\"file:///Users/pegasus/.julia/packages/POMDPModels/wnwgU/src/LightDark.jl\" target=\"_blank\">/Users/pegasus/.julia/packages/POMDPModels/wnwgU/src/LightDark.jl:94</a></li> <li> convert_s(::<b>Type{GridWorldState}</b>, s::<b>AbstractArray</b>, mdp::<b>LegacyGridWorld</b>) in POMDPModels at <a href=\"file:///Users/pegasus/.julia/packages/POMDPModels/wnwgU/src/legacy/GridWorlds.jl\" target=\"_blank\">/Users/pegasus/.julia/packages/POMDPModels/wnwgU/src/legacy/GridWorlds.jl:269</a></li> <li> convert_s<i>{V<:(AbstractArray{Float64,N} where N)}</i>(::<b>Type{PedMDPState}</b>, z::<b>V</b>, mdp::<b>PedMDP</b>) in AutomotivePOMDPs at <a href=\"file:///Users/pegasus/.julia/packages/AutomotivePOMDPs/FspEv/src/explicit_pomdps/pedestrian_mdp/pomdp_types.jl\" target=\"_blank\">/Users/pegasus/.julia/packages/AutomotivePOMDPs/FspEv/src/explicit_pomdps/pedestrian_mdp/pomdp_types.jl:141</a></li> <li> convert_s(::<b>Type{Array{Float64,1}}</b>, s::<b>Frame{Entity{VehicleState,VehicleDef,Int64}}</b>, pomdp::<b>UrbanPOMDP</b>) in AutomotivePOMDPs at <a href=\"file:///Users/pegasus/.julia/packages/AutomotivePOMDPs/FspEv/src/generative_pomdps/urban/generative_model.jl\" target=\"_blank\">/Users/pegasus/.julia/packages/AutomotivePOMDPs/FspEv/src/generative_pomdps/urban/generative_model.jl:277</a></li> <li> convert_s(::<b>Type{Array{Float64,1}}</b>, s::<b>PedMDPState</b>, mdp::<b>PedMDP</b>) in AutomotivePOMDPs at <a href=\"file:///Users/pegasus/.julia/packages/AutomotivePOMDPs/FspEv/src/explicit_pomdps/pedestrian_mdp/pomdp_types.jl\" target=\"_blank\">/Users/pegasus/.julia/packages/AutomotivePOMDPs/FspEv/src/explicit_pomdps/pedestrian_mdp/pomdp_types.jl:126</a></li> <li> convert_s<i>{V<:AbstractArray}</i>(ts::<b>Type{Frame{Entity{VehicleState,VehicleDef,Int64}}}</b>, v::<b>V</b>, mdp::<b>DrivingMDP</b>) in Main at In[17]:3</li> <li> convert_s<i>{A1<:AbstractArray, A2<:AbstractArray}</i>(T::<b>Type{A1}</b>, s::<b>A2</b>, problem::<b>Union{MDP, POMDP}</b>) in POMDPs at <a href=\"file:///Users/pegasus/.julia/packages/POMDPs/JiYXY/src/pomdp.jl\" target=\"_blank\">/Users/pegasus/.julia/packages/POMDPs/JiYXY/src/pomdp.jl:168</a></li> <li> convert_s<i>{F<:Number, A<:(AbstractArray{F<:Number,N} where N)}</i>(::<b>Type{A}</b>, s::<b>Number</b>, problem::<b>Union{MDP, POMDP}</b>) in POMDPs at <a href=\"file:///Users/pegasus/.julia/packages/POMDPs/JiYXY/src/pomdp.jl\" target=\"_blank\">/Users/pegasus/.julia/packages/POMDPs/JiYXY/src/pomdp.jl:170</a></li> <li> convert_s<i>{N<:Number, F<:Number}</i>(::<b>Type{N}</b>, v::<b>AbstractArray{F,N} where N</b>, problem::<b>Union{MDP, POMDP}</b>) in POMDPs at <a href=\"file:///Users/pegasus/.julia/packages/POMDPs/JiYXY/src/pomdp.jl\" target=\"_blank\">/Users/pegasus/.julia/packages/POMDPs/JiYXY/src/pomdp.jl:171</a></li> <li> convert_s<i>{V<:AbstractArray}</i>(T::<b>Type{V}</b>, s, pomdp::<b>POMDPModelTools.FullyObservablePOMDP</b>) in POMDPModelTools at <a href=\"file:///Users/pegasus/.julia/packages/POMDPModelTools/H7kTq/src/fully_observable_pomdp.jl\" target=\"_blank\">/Users/pegasus/.julia/packages/POMDPModelTools/H7kTq/src/fully_observable_pomdp.jl:46</a></li> <li> convert_s<i>{S, V<:AbstractArray}</i>(T::<b>Type{S}</b>, vec::<b>V</b>, pomdp::<b>POMDPModelTools.FullyObservablePOMDP</b>) in POMDPModelTools at <a href=\"file:///Users/pegasus/.julia/packages/POMDPModelTools/H7kTq/src/fully_observable_pomdp.jl\" target=\"_blank\">/Users/pegasus/.julia/packages/POMDPModelTools/H7kTq/src/fully_observable_pomdp.jl:47</a></li> <li> convert_s<i>{A<:AbstractArray}</i>(::<b>Type{A}</b>, s::<b>Tuple{Float64,Float64}</b>, mc::<b>MountainCar</b>) in POMDPModels at <a href=\"file:///Users/pegasus/.julia/packages/POMDPModels/wnwgU/src/MountainCar.jl\" target=\"_blank\">/Users/pegasus/.julia/packages/POMDPModels/wnwgU/src/MountainCar.jl:42</a></li> <li> convert_s<i>{A<:AbstractArray}</i>(::<b>Type{A}</b>, s::<b>Tuple{Float64,Float64}</b>, ip::<b>InvertedPendulum</b>) in POMDPModels at <a href=\"file:///Users/pegasus/.julia/packages/POMDPModels/wnwgU/src/InvertedPendulum.jl\" target=\"_blank\">/Users/pegasus/.julia/packages/POMDPModels/wnwgU/src/InvertedPendulum.jl:68</a></li> <li> convert_s<i>{A<:AbstractArray}</i>(::<b>Type{A}</b>, s::<b>LightDark1DState</b>, p::<b>LightDark1D</b>) in POMDPModels at <a href=\"file:///Users/pegasus/.julia/packages/POMDPModels/wnwgU/src/LightDark.jl\" target=\"_blank\">/Users/pegasus/.julia/packages/POMDPModels/wnwgU/src/LightDark.jl:93</a></li> <li> convert_s<i>{A<:AbstractArray}</i>(::<b>Type{A}</b>, s::<b>GridWorldState</b>, mdp::<b>LegacyGridWorld</b>) in POMDPModels at <a href=\"file:///Users/pegasus/.julia/packages/POMDPModels/wnwgU/src/legacy/GridWorlds.jl\" target=\"_blank\">/Users/pegasus/.julia/packages/POMDPModels/wnwgU/src/legacy/GridWorlds.jl:268</a></li> <li> convert_s<i>{V<:AbstractArray}</i>(tv::<b>Type{V}</b>, s::<b>Frame{Entity{VehicleState,VehicleDef,Int64}}</b>, mdp::<b>DrivingMDP</b>) in Main at In[16]:4</li> </ul>"
      ],
      "text/plain": [
       "# 18 methods for generic function \"convert_s\":\n",
       "[1] convert_s(::Type{Tuple{Float64,Float64}}, s::A, mc::MountainCar) where A<:AbstractArray in POMDPModels at /Users/pegasus/.julia/packages/POMDPModels/wnwgU/src/MountainCar.jl:45\n",
       "[2] convert_s(::Type{Tuple{Float64,Float64}}, s::A, ip::InvertedPendulum) where A<:AbstractArray in POMDPModels at /Users/pegasus/.julia/packages/POMDPModels/wnwgU/src/InvertedPendulum.jl:73\n",
       "[3] convert_s(::Type{LightDark1DState}, s::A, p::LightDark1D) where A<:AbstractArray in POMDPModels at /Users/pegasus/.julia/packages/POMDPModels/wnwgU/src/LightDark.jl:94\n",
       "[4] convert_s(::Type{GridWorldState}, s::AbstractArray, mdp::LegacyGridWorld) in POMDPModels at /Users/pegasus/.julia/packages/POMDPModels/wnwgU/src/legacy/GridWorlds.jl:269\n",
       "[5] convert_s(::Type{PedMDPState}, z::V, mdp::PedMDP) where V<:(AbstractArray{Float64,N} where N) in AutomotivePOMDPs at /Users/pegasus/.julia/packages/AutomotivePOMDPs/FspEv/src/explicit_pomdps/pedestrian_mdp/pomdp_types.jl:141\n",
       "[6] convert_s(::Type{Array{Float64,1}}, s::Frame{Entity{VehicleState,VehicleDef,Int64}}, pomdp::UrbanPOMDP) in AutomotivePOMDPs at /Users/pegasus/.julia/packages/AutomotivePOMDPs/FspEv/src/generative_pomdps/urban/generative_model.jl:277\n",
       "[7] convert_s(::Type{Array{Float64,1}}, s::PedMDPState, mdp::PedMDP) in AutomotivePOMDPs at /Users/pegasus/.julia/packages/AutomotivePOMDPs/FspEv/src/explicit_pomdps/pedestrian_mdp/pomdp_types.jl:126\n",
       "[8] convert_s(ts::Type{Frame{Entity{VehicleState,VehicleDef,Int64}}}, v::V, mdp::DrivingMDP) where V<:AbstractArray in Main at In[17]:3\n",
       "[9] convert_s(T::Type{A1}, s::A2, problem::Union{MDP, POMDP}) where {A1<:AbstractArray, A2<:AbstractArray} in POMDPs at /Users/pegasus/.julia/packages/POMDPs/JiYXY/src/pomdp.jl:168\n",
       "[10] convert_s(::Type{A}, s::Number, problem::Union{MDP, POMDP}) where {F<:Number, A<:(AbstractArray{F<:Number,N} where N)} in POMDPs at /Users/pegasus/.julia/packages/POMDPs/JiYXY/src/pomdp.jl:170\n",
       "[11] convert_s(::Type{N}, v::AbstractArray{F,N} where N, problem::Union{MDP, POMDP}) where {N<:Number, F<:Number} in POMDPs at /Users/pegasus/.julia/packages/POMDPs/JiYXY/src/pomdp.jl:171\n",
       "[12] convert_s(T::Type{V}, s, pomdp::POMDPModelTools.FullyObservablePOMDP) where V<:AbstractArray in POMDPModelTools at /Users/pegasus/.julia/packages/POMDPModelTools/H7kTq/src/fully_observable_pomdp.jl:46\n",
       "[13] convert_s(T::Type{S}, vec::V, pomdp::POMDPModelTools.FullyObservablePOMDP) where {S, V<:AbstractArray} in POMDPModelTools at /Users/pegasus/.julia/packages/POMDPModelTools/H7kTq/src/fully_observable_pomdp.jl:47\n",
       "[14] convert_s(::Type{A}, s::Tuple{Float64,Float64}, mc::MountainCar) where A<:AbstractArray in POMDPModels at /Users/pegasus/.julia/packages/POMDPModels/wnwgU/src/MountainCar.jl:42\n",
       "[15] convert_s(::Type{A}, s::Tuple{Float64,Float64}, ip::InvertedPendulum) where A<:AbstractArray in POMDPModels at /Users/pegasus/.julia/packages/POMDPModels/wnwgU/src/InvertedPendulum.jl:68\n",
       "[16] convert_s(::Type{A}, s::LightDark1DState, p::LightDark1D) where A<:AbstractArray in POMDPModels at /Users/pegasus/.julia/packages/POMDPModels/wnwgU/src/LightDark.jl:93\n",
       "[17] convert_s(::Type{A}, s::GridWorldState, mdp::LegacyGridWorld) where A<:AbstractArray in POMDPModels at /Users/pegasus/.julia/packages/POMDPModels/wnwgU/src/legacy/GridWorlds.jl:268\n",
       "[18] convert_s(tv::Type{V}, s::Frame{Entity{VehicleState,VehicleDef,Int64}}, mdp::DrivingMDP) where V<:AbstractArray in Main at In[16]:4"
      ]
     },
     "execution_count": 30,
     "metadata": {},
     "output_type": "execute_result"
    }
   ],
   "source": [
    "methods(POMDPs.convert_s)"
   ]
  },
  {
   "cell_type": "code",
   "execution_count": 31,
   "metadata": {},
   "outputs": [
    {
     "data": {
      "text/plain": [
       "best_action (generic function with 1 method)"
      ]
     },
     "execution_count": 31,
     "metadata": {},
     "output_type": "execute_result"
    }
   ],
   "source": [
    "function best_action(acts::Vector{A}, val::AbstractArray{T}, problem::M) where {A, T <: Real, M <: Union{POMDP, MDP}}\n",
    "    best_a = acts[1]\n",
    "    best_ai = actionindex(problem, best_a) \n",
    "    best_val = val[best_ai]\n",
    "    for a in acts \n",
    "        ai = actionindex(problem, a)\n",
    "        if val[ai] > best_val \n",
    "            best_val = val[ai]\n",
    "            best_ai = ai \n",
    "            best_a = a\n",
    "        end\n",
    "    end\n",
    "    return best_a::A\n",
    "end"
   ]
  },
  {
   "cell_type": "code",
   "execution_count": 32,
   "metadata": {},
   "outputs": [
    {
     "data": {
      "text/plain": [
       "masked_linear_epsilon_greedy (generic function with 1 method)"
      ]
     },
     "execution_count": 32,
     "metadata": {},
     "output_type": "execute_result"
    }
   ],
   "source": [
    "# define exploration policy with masking, obs is vector\n",
    "function masked_linear_epsilon_greedy(max_steps::Int64, eps_fraction::Float64, eps_end::Float64)\n",
    "    # define function that will be called to select an action in DQN\n",
    "    # only supports MDP environments\n",
    "    function action_masked_epsilon_greedy(policy::AbstractNNPolicy, env::MDPEnvironment, obs, global_step::Int64, rng::AbstractRNG)\n",
    "        eps = DeepQLearning.update_epsilon(global_step, eps_fraction, eps_end, max_steps)\n",
    "        acts = safe_actions(mdp, obs) #XXX using pomdp global variable replace by safe_actions(mask, obs)\n",
    "        val = actionvalues(policy, obs) #change this\n",
    "        if rand(rng) < eps\n",
    "            return (rand(rng, acts), eps)\n",
    "        else\n",
    "            return (best_action(acts, val, env.problem), eps)\n",
    "        end\n",
    "    end\n",
    "    return action_masked_epsilon_greedy\n",
    "end"
   ]
  },
  {
   "cell_type": "code",
   "execution_count": 33,
   "metadata": {},
   "outputs": [
    {
     "data": {
      "text/plain": [
       "action_masked_epsilon_greedy (generic function with 1 method)"
      ]
     },
     "execution_count": 33,
     "metadata": {},
     "output_type": "execute_result"
    }
   ],
   "source": [
    "function action_masked_epsilon_greedy(policy::AbstractNNPolicy, env::MDPEnvironment, obs, global_step::Int64, rng::AbstractRNG)\n",
    "    eps = DeepQLearning.update_epsilon(global_step, eps_fraction, eps_end, max_steps)\n",
    "    acts = safe_actions(mdp, obs) #XXX using pomdp global variable replace by safe_actions(mask, obs)\n",
    "    val = actionvalues(policy, obs)\n",
    "    if rand(rng) < eps\n",
    "        return (rand(rng, acts), eps)\n",
    "    else\n",
    "        return (best_action(acts, val, env.problem), eps)\n",
    "    end\n",
    "end"
   ]
  },
  {
   "cell_type": "code",
   "execution_count": 53,
   "metadata": {},
   "outputs": [
    {
     "name": "stdout",
     "output_type": "stream",
     "text": [
      "  500 / 300000 eps 0.997 |  avgR -0.851 | Loss 9.939e-02 | Grad 2.845e-02 \n",
      " 1000 / 300000 eps 0.993 |  avgR -0.885 | Loss 1.014e-01 | Grad 4.630e-02 \n",
      " 1500 / 300000 eps 0.990 |  avgR -0.894 | Loss 7.012e-02 | Grad 2.116e-02 \n",
      " 2000 / 300000 eps 0.987 |  avgR -0.847 | Loss 8.426e-02 | Grad 7.149e-02 \n",
      " 2500 / 300000 eps 0.984 |  avgR -0.797 | Loss 1.004e-01 | Grad 4.362e-02 \n",
      " 3000 / 300000 eps 0.980 |  avgR -0.808 | Loss 7.681e-02 | Grad 1.421e-02 \n",
      " 3500 / 300000 eps 0.977 |  avgR -0.866 | Loss 1.060e-01 | Grad 2.888e-02 \n",
      " 4000 / 300000 eps 0.974 |  avgR -0.866 | Loss 9.536e-02 | Grad 7.548e-02 \n",
      " 4500 / 300000 eps 0.970 |  avgR -0.877 | Loss 8.029e-02 | Grad 3.133e-02 \n",
      " 5000 / 300000 eps 0.967 |  avgR -0.846 | Loss 7.641e-02 | Grad 1.748e-02 \n",
      " 5500 / 300000 eps 0.964 |  avgR -0.845 | Loss 6.166e-02 | Grad 1.093e-02 \n",
      " 6000 / 300000 eps 0.960 |  avgR -0.932 | Loss 7.523e-02 | Grad 4.091e-02 \n",
      " 6500 / 300000 eps 0.957 |  avgR -0.900 | Loss 5.603e-02 | Grad 3.686e-02 \n",
      " 7000 / 300000 eps 0.954 |  avgR -0.825 | Loss 5.496e-02 | Grad 3.437e-02 \n",
      " 7500 / 300000 eps 0.951 |  avgR -0.826 | Loss 7.353e-02 | Grad 6.136e-02 \n",
      " 8000 / 300000 eps 0.947 |  avgR -0.904 | Loss 5.979e-02 | Grad 3.593e-02 \n",
      " 8500 / 300000 eps 0.944 |  avgR -0.866 | Loss 6.458e-02 | Grad 4.816e-02 \n",
      " 9000 / 300000 eps 0.941 |  avgR -0.963 | Loss 4.834e-02 | Grad 1.478e-02 \n",
      " 9500 / 300000 eps 0.937 |  avgR -0.816 | Loss 4.902e-02 | Grad 1.512e-02 \n",
      "10000 / 300000 eps 0.934 |  avgR -0.858 | Loss 4.076e-02 | Grad 1.833e-02 \n",
      "Evaluation ... Avg Reward -1.0284558203050878\n",
      "10500 / 300000 eps 0.931 |  avgR -0.799 | Loss 5.511e-02 | Grad 4.553e-02 \n",
      "11000 / 300000 eps 0.927 |  avgR -0.757 | Loss 4.595e-02 | Grad 1.240e-02 \n",
      "11500 / 300000 eps 0.924 |  avgR -0.825 | Loss 7.046e-02 | Grad 7.866e-02 \n",
      "12000 / 300000 eps 0.921 |  avgR -0.856 | Loss 5.039e-02 | Grad 1.244e-02 \n",
      "Saving new model with eval reward -1.028 \n",
      "12500 / 300000 eps 0.917 |  avgR -0.858 | Loss 5.609e-02 | Grad 1.144e-02 \n",
      "13000 / 300000 eps 0.914 |  avgR -0.805 | Loss 4.672e-02 | Grad 3.659e-02 \n",
      "13500 / 300000 eps 0.911 |  avgR -0.867 | Loss 4.289e-02 | Grad 1.508e-02 \n",
      "14000 / 300000 eps 0.908 |  avgR -0.839 | Loss 4.062e-02 | Grad 2.901e-02 \n",
      "14500 / 300000 eps 0.904 |  avgR -0.818 | Loss 3.426e-02 | Grad 1.844e-02 \n",
      "15000 / 300000 eps 0.901 |  avgR -0.837 | Loss 4.056e-02 | Grad 1.752e-02 \n",
      "Saving new model with eval reward -1.028 \n",
      "15500 / 300000 eps 0.898 |  avgR -0.810 | Loss 4.618e-02 | Grad 2.298e-02 \n",
      "16000 / 300000 eps 0.894 |  avgR -0.820 | Loss 4.506e-02 | Grad 1.405e-02 \n",
      "16500 / 300000 eps 0.891 |  avgR -0.857 | Loss 2.620e-02 | Grad 1.034e-02 \n",
      "17000 / 300000 eps 0.888 |  avgR -0.859 | Loss 3.709e-02 | Grad 1.821e-02 \n",
      "17500 / 300000 eps 0.884 |  avgR -0.878 | Loss 5.100e-02 | Grad 1.707e-02 \n",
      "18000 / 300000 eps 0.881 |  avgR -0.904 | Loss 3.658e-02 | Grad 2.316e-02 \n",
      "Saving new model with eval reward -1.028 \n",
      "18500 / 300000 eps 0.878 |  avgR -0.905 | Loss 5.474e-02 | Grad 5.283e-02 \n",
      "19000 / 300000 eps 0.875 |  avgR -0.767 | Loss 3.390e-02 | Grad 1.787e-02 \n",
      "19500 / 300000 eps 0.871 |  avgR -0.768 | Loss 2.917e-02 | Grad 1.534e-02 \n",
      "20000 / 300000 eps 0.868 |  avgR -0.740 | Loss 3.327e-02 | Grad 1.341e-02 \n",
      "Evaluation ... Avg Reward 0.9609697767002917\n",
      "20500 / 300000 eps 0.865 |  avgR -0.827 | Loss 4.744e-02 | Grad 4.598e-02 \n",
      "21000 / 300000 eps 0.861 |  avgR -0.756 | Loss 2.996e-02 | Grad 2.053e-02 \n",
      "Saving new model with eval reward 0.961 \n",
      "21500 / 300000 eps 0.858 |  avgR -0.778 | Loss 2.747e-02 | Grad 1.430e-02 \n",
      "22000 / 300000 eps 0.855 |  avgR -0.787 | Loss 3.326e-02 | Grad 1.564e-02 \n",
      "22500 / 300000 eps 0.851 |  avgR -0.826 | Loss 4.756e-02 | Grad 4.491e-02 \n",
      "23000 / 300000 eps 0.848 |  avgR -0.827 | Loss 6.398e-02 | Grad 2.429e-02 \n",
      "23500 / 300000 eps 0.845 |  avgR -0.836 | Loss 4.882e-02 | Grad 2.987e-02 \n",
      "24000 / 300000 eps 0.842 |  avgR -0.827 | Loss 2.693e-02 | Grad 1.112e-02 \n",
      "Saving new model with eval reward 0.961 \n",
      "24500 / 300000 eps 0.838 |  avgR -0.884 | Loss 4.677e-02 | Grad 4.754e-02 \n",
      "25000 / 300000 eps 0.835 |  avgR -0.718 | Loss 2.949e-02 | Grad 1.740e-02 \n",
      "25500 / 300000 eps 0.832 |  avgR -0.720 | Loss 4.338e-02 | Grad 1.419e-02 \n",
      "26000 / 300000 eps 0.828 |  avgR -0.824 | Loss 5.244e-02 | Grad 3.505e-02 \n",
      "26500 / 300000 eps 0.825 |  avgR -0.834 | Loss 4.655e-02 | Grad 1.289e-02 \n",
      "27000 / 300000 eps 0.822 |  avgR -0.864 | Loss 3.171e-02 | Grad 1.089e-02 \n",
      "Saving new model with eval reward 0.961 \n",
      "27500 / 300000 eps 0.819 |  avgR -0.807 | Loss 4.142e-02 | Grad 3.049e-02 \n",
      "28000 / 300000 eps 0.815 |  avgR -0.797 | Loss 3.825e-02 | Grad 2.652e-02 \n",
      "28500 / 300000 eps 0.812 |  avgR -0.659 | Loss 3.912e-02 | Grad 2.678e-02 \n",
      "29000 / 300000 eps 0.809 |  avgR -0.710 | Loss 3.204e-02 | Grad 2.188e-02 \n",
      "29500 / 300000 eps 0.805 |  avgR -0.825 | Loss 3.225e-02 | Grad 1.066e-02 \n",
      "30000 / 300000 eps 0.802 |  avgR -0.817 | Loss 3.750e-02 | Grad 2.068e-02 \n",
      "Saving new model with eval reward 0.961 \n",
      "Evaluation ... Avg Reward -0.031396281314147206\n",
      "30500 / 300000 eps 0.799 |  avgR -0.766 | Loss 2.710e-02 | Grad 3.461e-02 \n",
      "31000 / 300000 eps 0.795 |  avgR -0.786 | Loss 4.233e-02 | Grad 1.665e-02 \n",
      "31500 / 300000 eps 0.792 |  avgR -0.797 | Loss 2.889e-02 | Grad 8.297e-03 \n",
      "32000 / 300000 eps 0.789 |  avgR -0.748 | Loss 4.214e-02 | Grad 4.652e-02 \n",
      "32500 / 300000 eps 0.785 |  avgR -0.788 | Loss 5.217e-02 | Grad 1.475e-02 \n",
      "33000 / 300000 eps 0.782 |  avgR -0.729 | Loss 5.338e-02 | Grad 1.873e-02 \n",
      "33500 / 300000 eps 0.779 |  avgR -0.785 | Loss 2.781e-02 | Grad 1.168e-02 \n",
      "34000 / 300000 eps 0.776 |  avgR -0.824 | Loss 4.109e-02 | Grad 1.143e-02 \n",
      "34500 / 300000 eps 0.772 |  avgR -0.718 | Loss 2.767e-02 | Grad 2.019e-02 \n",
      "35000 / 300000 eps 0.769 |  avgR -0.769 | Loss 2.750e-02 | Grad 3.180e-02 \n",
      "35500 / 300000 eps 0.766 |  avgR -0.758 | Loss 2.603e-02 | Grad 2.046e-02 \n",
      "36000 / 300000 eps 0.762 |  avgR -0.786 | Loss 4.379e-02 | Grad 1.331e-02 \n",
      "36500 / 300000 eps 0.759 |  avgR -0.778 | Loss 4.539e-02 | Grad 5.538e-02 \n",
      "37000 / 300000 eps 0.756 |  avgR -0.708 | Loss 2.451e-02 | Grad 1.158e-02 \n",
      "37500 / 300000 eps 0.752 |  avgR -0.639 | Loss 3.834e-02 | Grad 1.553e-02 \n",
      "38000 / 300000 eps 0.749 |  avgR -0.699 | Loss 4.030e-02 | Grad 1.201e-02 \n",
      "38500 / 300000 eps 0.746 |  avgR -0.739 | Loss 3.399e-02 | Grad 2.199e-02 \n",
      "39000 / 300000 eps 0.743 |  avgR -0.817 | Loss 4.748e-02 | Grad 1.125e-02 \n",
      "39500 / 300000 eps 0.739 |  avgR -0.817 | Loss 3.452e-02 | Grad 1.871e-02 \n",
      "40000 / 300000 eps 0.736 |  avgR -0.837 | Loss 4.821e-02 | Grad 1.384e-02 \n",
      "Evaluation ... Avg Reward -1.022855635227472\n",
      "40500 / 300000 eps 0.733 |  avgR -0.737 | Loss 4.574e-02 | Grad 1.208e-02 \n",
      "41000 / 300000 eps 0.729 |  avgR -0.766 | Loss 4.003e-02 | Grad 1.337e-02 \n",
      "41500 / 300000 eps 0.726 |  avgR -0.826 | Loss 2.982e-02 | Grad 1.640e-02 \n",
      "42000 / 300000 eps 0.723 |  avgR -0.883 | Loss 2.773e-02 | Grad 3.544e-02 \n",
      "42500 / 300000 eps 0.720 |  avgR -0.815 | Loss 4.040e-02 | Grad 2.674e-02 \n",
      "43000 / 300000 eps 0.716 |  avgR -0.718 | Loss 3.434e-02 | Grad 3.306e-02 \n",
      "43500 / 300000 eps 0.713 |  avgR -0.700 | Loss 3.042e-02 | Grad 1.377e-02 \n",
      "44000 / 300000 eps 0.710 |  avgR -0.757 | Loss 2.750e-02 | Grad 1.474e-02 \n",
      "44500 / 300000 eps 0.706 |  avgR -0.757 | Loss 3.796e-02 | Grad 1.901e-02 \n",
      "45000 / 300000 eps 0.703 |  avgR -0.758 | Loss 3.258e-02 | Grad 1.124e-02 \n",
      "45500 / 300000 eps 0.700 |  avgR -0.747 | Loss 2.248e-02 | Grad 1.611e-02 \n",
      "46000 / 300000 eps 0.696 |  avgR -0.786 | Loss 2.018e-02 | Grad 8.819e-03 \n",
      "46500 / 300000 eps 0.693 |  avgR -0.709 | Loss 1.784e-02 | Grad 8.538e-03 \n",
      "47000 / 300000 eps 0.690 |  avgR -0.749 | Loss 2.494e-02 | Grad 3.920e-02 \n",
      "47500 / 300000 eps 0.686 |  avgR -0.709 | Loss 1.879e-02 | Grad 8.196e-03 \n",
      "48000 / 300000 eps 0.683 |  avgR -0.708 | Loss 1.777e-02 | Grad 1.125e-02 \n",
      "48500 / 300000 eps 0.680 |  avgR -0.715 | Loss 3.195e-02 | Grad 9.757e-03 \n",
      "49000 / 300000 eps 0.677 |  avgR -0.687 | Loss 2.505e-02 | Grad 9.094e-03 \n",
      "49500 / 300000 eps 0.673 |  avgR -0.719 | Loss 2.167e-02 | Grad 1.414e-02 \n",
      "50000 / 300000 eps 0.670 |  avgR -0.787 | Loss 3.499e-02 | Grad 2.159e-02 \n",
      "Evaluation ... Avg Reward -1.0296139688854042\n",
      "50500 / 300000 eps 0.667 |  avgR -0.863 | Loss 2.972e-02 | Grad 1.007e-02 \n",
      "51000 / 300000 eps 0.663 |  avgR -0.788 | Loss 3.442e-02 | Grad 3.456e-02 \n",
      "51500 / 300000 eps 0.660 |  avgR -0.876 | Loss 2.116e-02 | Grad 3.314e-02 \n"
     ]
    },
    {
     "name": "stdout",
     "output_type": "stream",
     "text": [
      "52000 / 300000 eps 0.657 |  avgR -0.844 | Loss 3.018e-02 | Grad 1.593e-02 \n",
      "52500 / 300000 eps 0.653 |  avgR -0.708 | Loss 3.536e-02 | Grad 1.118e-02 \n",
      "53000 / 300000 eps 0.650 |  avgR -0.729 | Loss 2.475e-02 | Grad 1.583e-02 \n",
      "53500 / 300000 eps 0.647 |  avgR -0.699 | Loss 4.571e-02 | Grad 2.163e-02 \n",
      "54000 / 300000 eps 0.644 |  avgR -0.688 | Loss 3.169e-02 | Grad 2.656e-02 \n",
      "54500 / 300000 eps 0.640 |  avgR -0.691 | Loss 3.498e-02 | Grad 1.498e-02 \n",
      "55000 / 300000 eps 0.637 |  avgR -0.708 | Loss 3.557e-02 | Grad 3.148e-02 \n",
      "55500 / 300000 eps 0.634 |  avgR -0.717 | Loss 3.764e-02 | Grad 1.178e-02 \n",
      "56000 / 300000 eps 0.630 |  avgR -0.651 | Loss 2.487e-02 | Grad 1.526e-02 \n",
      "56500 / 300000 eps 0.627 |  avgR -0.680 | Loss 2.916e-02 | Grad 2.054e-02 \n",
      "57000 / 300000 eps 0.624 |  avgR -0.768 | Loss 3.806e-02 | Grad 9.683e-03 \n",
      "57500 / 300000 eps 0.621 |  avgR -0.699 | Loss 2.438e-02 | Grad 1.795e-02 \n",
      "58000 / 300000 eps 0.617 |  avgR -0.630 | Loss 3.694e-02 | Grad 1.013e-02 \n",
      "58500 / 300000 eps 0.614 |  avgR -0.591 | Loss 2.609e-02 | Grad 9.780e-03 \n",
      "59000 / 300000 eps 0.611 |  avgR -0.679 | Loss 3.828e-02 | Grad 1.633e-02 \n",
      "59500 / 300000 eps 0.607 |  avgR -0.807 | Loss 3.775e-02 | Grad 6.426e-02 \n",
      "60000 / 300000 eps 0.604 |  avgR -0.768 | Loss 3.539e-02 | Grad 1.448e-02 \n",
      "Evaluation ... Avg Reward -1.0278150757171565\n",
      "60500 / 300000 eps 0.601 |  avgR -0.768 | Loss 2.830e-02 | Grad 2.274e-02 \n",
      "61000 / 300000 eps 0.597 |  avgR -0.766 | Loss 2.548e-02 | Grad 1.382e-02 \n",
      "61500 / 300000 eps 0.594 |  avgR -0.669 | Loss 4.431e-02 | Grad 1.960e-02 \n",
      "62000 / 300000 eps 0.591 |  avgR -0.503 | Loss 3.173e-02 | Grad 1.694e-02 \n",
      "62500 / 300000 eps 0.587 |  avgR -0.748 | Loss 3.174e-02 | Grad 2.562e-02 \n",
      "63000 / 300000 eps 0.584 |  avgR -0.700 | Loss 2.574e-02 | Grad 1.308e-02 \n",
      "63500 / 300000 eps 0.581 |  avgR -0.555 | Loss 3.818e-02 | Grad 9.728e-03 \n",
      "64000 / 300000 eps 0.578 |  avgR -0.660 | Loss 2.999e-02 | Grad 2.250e-02 \n",
      "64500 / 300000 eps 0.574 |  avgR -0.730 | Loss 2.238e-02 | Grad 1.067e-02 \n",
      "65000 / 300000 eps 0.571 |  avgR -0.623 | Loss 3.151e-02 | Grad 1.874e-02 \n",
      "65500 / 300000 eps 0.568 |  avgR -0.699 | Loss 5.688e-02 | Grad 6.830e-02 \n",
      "66000 / 300000 eps 0.564 |  avgR -0.687 | Loss 2.449e-02 | Grad 9.052e-03 \n",
      "66500 / 300000 eps 0.561 |  avgR -0.590 | Loss 3.609e-02 | Grad 1.037e-02 \n",
      "67000 / 300000 eps 0.558 |  avgR -0.661 | Loss 3.578e-02 | Grad 1.930e-02 \n",
      "67500 / 300000 eps 0.554 |  avgR -0.736 | Loss 5.867e-02 | Grad 6.556e-02 \n",
      "68000 / 300000 eps 0.551 |  avgR -0.750 | Loss 4.212e-02 | Grad 2.411e-02 \n",
      "68500 / 300000 eps 0.548 |  avgR -0.554 | Loss 3.705e-02 | Grad 2.202e-02 \n",
      "69000 / 300000 eps 0.545 |  avgR -0.611 | Loss 3.986e-02 | Grad 1.832e-02 \n",
      "69500 / 300000 eps 0.541 |  avgR -0.728 | Loss 2.241e-02 | Grad 1.337e-02 \n",
      "70000 / 300000 eps 0.538 |  avgR -0.820 | Loss 3.015e-02 | Grad 1.687e-02 \n",
      "Evaluation ... Avg Reward -0.03179546363814668\n",
      "70500 / 300000 eps 0.535 |  avgR -0.787 | Loss 3.308e-02 | Grad 2.192e-02 \n",
      "71000 / 300000 eps 0.531 |  avgR -0.631 | Loss 3.404e-02 | Grad 2.348e-02 \n",
      "71500 / 300000 eps 0.528 |  avgR -0.571 | Loss 2.596e-02 | Grad 2.437e-02 \n",
      "72000 / 300000 eps 0.525 |  avgR -0.590 | Loss 3.896e-02 | Grad 2.265e-02 \n",
      "72500 / 300000 eps 0.521 |  avgR -0.688 | Loss 2.995e-02 | Grad 1.949e-02 \n",
      "73000 / 300000 eps 0.518 |  avgR -0.648 | Loss 6.632e-02 | Grad 7.407e-02 \n",
      "73500 / 300000 eps 0.515 |  avgR -0.747 | Loss 3.994e-02 | Grad 3.258e-02 \n",
      "74000 / 300000 eps 0.512 |  avgR -0.619 | Loss 4.730e-02 | Grad 6.405e-02 \n",
      "74500 / 300000 eps 0.508 |  avgR -0.543 | Loss 4.766e-02 | Grad 2.548e-02 \n",
      "75000 / 300000 eps 0.505 |  avgR -0.756 | Loss 6.172e-02 | Grad 8.331e-02 \n",
      "75500 / 300000 eps 0.502 |  avgR -0.680 | Loss 3.885e-02 | Grad 1.363e-02 \n",
      "76000 / 300000 eps 0.498 |  avgR -0.601 | Loss 3.038e-02 | Grad 2.289e-02 \n",
      "76500 / 300000 eps 0.495 |  avgR -0.649 | Loss 3.829e-02 | Grad 1.928e-02 \n",
      "77000 / 300000 eps 0.492 |  avgR -0.736 | Loss 4.686e-02 | Grad 3.237e-02 \n",
      "77500 / 300000 eps 0.488 |  avgR -0.669 | Loss 3.780e-02 | Grad 1.763e-02 \n",
      "78000 / 300000 eps 0.485 |  avgR -0.630 | Loss 4.730e-02 | Grad 3.622e-02 \n",
      "78500 / 300000 eps 0.482 |  avgR -0.602 | Loss 2.821e-02 | Grad 9.798e-03 \n",
      "79000 / 300000 eps 0.479 |  avgR -0.562 | Loss 4.424e-02 | Grad 2.054e-02 \n",
      "79500 / 300000 eps 0.475 |  avgR -0.542 | Loss 4.433e-02 | Grad 1.829e-02 \n",
      "80000 / 300000 eps 0.472 |  avgR -0.571 | Loss 3.261e-02 | Grad 1.004e-02 \n",
      "Evaluation ... Avg Reward -0.03016512517457771\n",
      "80500 / 300000 eps 0.469 |  avgR -0.531 | Loss 3.313e-02 | Grad 1.098e-02 \n",
      "81000 / 300000 eps 0.465 |  avgR -0.522 | Loss 4.045e-02 | Grad 2.155e-02 \n",
      "81500 / 300000 eps 0.462 |  avgR -0.503 | Loss 4.651e-02 | Grad 4.859e-02 \n",
      "82000 / 300000 eps 0.459 |  avgR -0.551 | Loss 3.866e-02 | Grad 2.140e-02 \n",
      "82500 / 300000 eps 0.456 |  avgR -0.600 | Loss 4.247e-02 | Grad 1.275e-02 \n",
      "83000 / 300000 eps 0.452 |  avgR -0.764 | Loss 5.591e-02 | Grad 1.597e-02 \n",
      "83500 / 300000 eps 0.449 |  avgR -0.610 | Loss 3.128e-02 | Grad 9.415e-03 \n",
      "84000 / 300000 eps 0.446 |  avgR -0.562 | Loss 2.710e-02 | Grad 2.874e-02 \n",
      "84500 / 300000 eps 0.442 |  avgR -0.640 | Loss 4.040e-02 | Grad 3.751e-02 \n",
      "85000 / 300000 eps 0.439 |  avgR -0.648 | Loss 4.156e-02 | Grad 8.966e-03 \n",
      "85500 / 300000 eps 0.436 |  avgR -0.598 | Loss 2.902e-02 | Grad 2.767e-02 \n",
      "86000 / 300000 eps 0.432 |  avgR -0.589 | Loss 2.886e-02 | Grad 1.001e-02 \n",
      "86500 / 300000 eps 0.429 |  avgR -0.696 | Loss 3.737e-02 | Grad 1.354e-02 \n",
      "87000 / 300000 eps 0.426 |  avgR -0.656 | Loss 4.401e-02 | Grad 1.049e-02 \n",
      "87500 / 300000 eps 0.422 |  avgR -0.541 | Loss 5.328e-02 | Grad 4.245e-02 \n",
      "88000 / 300000 eps 0.419 |  avgR -0.558 | Loss 3.966e-02 | Grad 2.544e-02 \n",
      "88500 / 300000 eps 0.416 |  avgR -0.580 | Loss 2.879e-02 | Grad 1.392e-02 \n",
      "89000 / 300000 eps 0.413 |  avgR -0.620 | Loss 3.798e-02 | Grad 3.396e-02 \n",
      "89500 / 300000 eps 0.409 |  avgR -0.482 | Loss 3.894e-02 | Grad 3.628e-02 \n",
      "90000 / 300000 eps 0.406 |  avgR -0.652 | Loss 3.362e-02 | Grad 1.300e-02 \n",
      "Evaluation ... Avg Reward -1.027061835929378\n",
      "90500 / 300000 eps 0.403 |  avgR -0.670 | Loss 3.712e-02 | Grad 1.055e-02 \n",
      "91000 / 300000 eps 0.399 |  avgR -0.698 | Loss 3.515e-02 | Grad 3.225e-02 \n",
      "91500 / 300000 eps 0.396 |  avgR -0.560 | Loss 3.985e-02 | Grad 2.702e-02 \n",
      "92000 / 300000 eps 0.393 |  avgR -0.631 | Loss 3.586e-02 | Grad 1.897e-02 \n",
      "92500 / 300000 eps 0.389 |  avgR -0.682 | Loss 3.382e-02 | Grad 2.048e-02 \n",
      "93000 / 300000 eps 0.386 |  avgR -0.609 | Loss 3.379e-02 | Grad 2.463e-02 \n",
      "93500 / 300000 eps 0.383 |  avgR -0.619 | Loss 4.265e-02 | Grad 1.595e-02 \n",
      "94000 / 300000 eps 0.380 |  avgR -0.492 | Loss 4.596e-02 | Grad 2.261e-02 \n",
      "94500 / 300000 eps 0.376 |  avgR -0.482 | Loss 3.934e-02 | Grad 1.768e-02 \n",
      "95000 / 300000 eps 0.373 |  avgR -0.395 | Loss 4.268e-02 | Grad 9.745e-03 \n",
      "95500 / 300000 eps 0.370 |  avgR -0.540 | Loss 4.438e-02 | Grad 2.964e-02 \n",
      "96000 / 300000 eps 0.366 |  avgR -0.782 | Loss 4.527e-02 | Grad 2.331e-02 \n",
      "96500 / 300000 eps 0.363 |  avgR -0.659 | Loss 2.105e-02 | Grad 1.734e-02 \n",
      "97000 / 300000 eps 0.360 |  avgR -0.633 | Loss 2.351e-02 | Grad 9.387e-03 \n",
      "97500 / 300000 eps 0.356 |  avgR -0.506 | Loss 3.284e-02 | Grad 4.210e-02 \n",
      "98000 / 300000 eps 0.353 |  avgR -0.620 | Loss 5.623e-02 | Grad 7.465e-02 \n",
      "98500 / 300000 eps 0.350 |  avgR -0.609 | Loss 3.857e-02 | Grad 4.322e-02 \n",
      "99000 / 300000 eps 0.347 |  avgR -0.384 | Loss 3.619e-02 | Grad 1.117e-02 \n",
      "99500 / 300000 eps 0.343 |  avgR -0.306 | Loss 3.943e-02 | Grad 2.045e-02 \n",
      "100000 / 300000 eps 0.340 |  avgR -0.714 | Loss 4.168e-02 | Grad 2.250e-02 \n",
      "Evaluation ... Avg Reward -0.030180218721454967\n",
      "100500 / 300000 eps 0.337 |  avgR -0.462 | Loss 3.533e-02 | Grad 1.069e-02 \n",
      "101000 / 300000 eps 0.333 |  avgR -0.602 | Loss 2.560e-02 | Grad 1.524e-02 \n",
      "101500 / 300000 eps 0.330 |  avgR -0.619 | Loss 3.928e-02 | Grad 4.199e-02 \n",
      "102000 / 300000 eps 0.327 |  avgR -0.482 | Loss 5.113e-02 | Grad 2.458e-02 \n",
      "102500 / 300000 eps 0.324 |  avgR -0.550 | Loss 3.129e-02 | Grad 9.978e-03 \n",
      "103000 / 300000 eps 0.320 |  avgR -0.455 | Loss 3.446e-02 | Grad 1.526e-02 \n",
      "103500 / 300000 eps 0.317 |  avgR -0.698 | Loss 4.348e-02 | Grad 1.614e-02 \n",
      "104000 / 300000 eps 0.314 |  avgR -0.735 | Loss 4.750e-02 | Grad 3.465e-02 \n",
      "104500 / 300000 eps 0.310 |  avgR -0.756 | Loss 4.536e-02 | Grad 9.975e-03 \n"
     ]
    },
    {
     "name": "stdout",
     "output_type": "stream",
     "text": [
      "105000 / 300000 eps 0.307 |  avgR -0.638 | Loss 4.120e-02 | Grad 1.395e-02 \n",
      "105500 / 300000 eps 0.304 |  avgR -0.541 | Loss 4.258e-02 | Grad 3.202e-02 \n",
      "106000 / 300000 eps 0.300 |  avgR -0.531 | Loss 4.394e-02 | Grad 2.621e-02 \n",
      "106500 / 300000 eps 0.297 |  avgR -0.658 | Loss 4.180e-02 | Grad 1.542e-02 \n",
      "107000 / 300000 eps 0.294 |  avgR -0.445 | Loss 4.563e-02 | Grad 1.636e-02 \n",
      "107500 / 300000 eps 0.290 |  avgR -0.290 | Loss 5.098e-02 | Grad 3.042e-02 \n",
      "108000 / 300000 eps 0.287 |  avgR -0.200 | Loss 3.318e-02 | Grad 3.137e-02 \n",
      "108500 / 300000 eps 0.284 |  avgR -0.424 | Loss 4.076e-02 | Grad 1.752e-02 \n",
      "109000 / 300000 eps 0.281 |  avgR -0.441 | Loss 3.717e-02 | Grad 9.702e-03 \n",
      "109500 / 300000 eps 0.277 |  avgR -0.425 | Loss 2.633e-02 | Grad 9.390e-03 \n",
      "110000 / 300000 eps 0.274 |  avgR -0.554 | Loss 4.275e-02 | Grad 2.673e-02 \n",
      "Evaluation ... Avg Reward -1.0379908229441244\n",
      "110500 / 300000 eps 0.271 |  avgR -0.612 | Loss 4.743e-02 | Grad 1.220e-02 \n",
      "111000 / 300000 eps 0.267 |  avgR -0.690 | Loss 4.161e-02 | Grad 2.111e-02 \n",
      "111500 / 300000 eps 0.264 |  avgR -0.530 | Loss 5.865e-02 | Grad 3.985e-02 \n",
      "112000 / 300000 eps 0.261 |  avgR -0.638 | Loss 4.454e-02 | Grad 1.605e-02 \n",
      "112500 / 300000 eps 0.257 |  avgR -0.623 | Loss 3.566e-02 | Grad 1.278e-02 \n",
      "113000 / 300000 eps 0.254 |  avgR -0.691 | Loss 3.969e-02 | Grad 1.742e-02 \n",
      "113500 / 300000 eps 0.251 |  avgR -0.613 | Loss 4.009e-02 | Grad 3.219e-02 \n",
      "114000 / 300000 eps 0.248 |  avgR -0.536 | Loss 5.301e-02 | Grad 4.186e-02 \n",
      "114500 / 300000 eps 0.244 |  avgR -0.543 | Loss 3.450e-02 | Grad 1.457e-02 \n",
      "115000 / 300000 eps 0.241 |  avgR -0.793 | Loss 4.522e-02 | Grad 1.964e-02 \n",
      "115500 / 300000 eps 0.238 |  avgR -0.725 | Loss 3.271e-02 | Grad 2.172e-02 \n",
      "116000 / 300000 eps 0.234 |  avgR -0.504 | Loss 4.212e-02 | Grad 3.217e-02 \n",
      "116500 / 300000 eps 0.231 |  avgR -0.395 | Loss 3.189e-02 | Grad 1.413e-02 \n",
      "117000 / 300000 eps 0.228 |  avgR -0.608 | Loss 3.806e-02 | Grad 2.913e-02 \n",
      "117500 / 300000 eps 0.224 |  avgR -0.688 | Loss 5.349e-02 | Grad 3.124e-02 \n",
      "118000 / 300000 eps 0.221 |  avgR -0.540 | Loss 2.843e-02 | Grad 9.936e-03 \n",
      "118500 / 300000 eps 0.218 |  avgR -0.695 | Loss 4.633e-02 | Grad 3.942e-02 \n",
      "119000 / 300000 eps 0.215 |  avgR -0.659 | Loss 4.217e-02 | Grad 2.632e-02 \n",
      "119500 / 300000 eps 0.211 |  avgR -0.532 | Loss 4.461e-02 | Grad 1.471e-02 \n",
      "120000 / 300000 eps 0.208 |  avgR -0.590 | Loss 3.560e-02 | Grad 1.467e-02 \n",
      "Evaluation ... Avg Reward -1.0228800398246432\n",
      "120500 / 300000 eps 0.205 |  avgR -0.550 | Loss 3.222e-02 | Grad 1.207e-02 \n",
      "121000 / 300000 eps 0.201 |  avgR -0.520 | Loss 6.030e-02 | Grad 4.004e-02 \n",
      "121500 / 300000 eps 0.198 |  avgR -0.668 | Loss 5.309e-02 | Grad 4.064e-02 \n",
      "122000 / 300000 eps 0.195 |  avgR -0.702 | Loss 4.989e-02 | Grad 2.880e-02 \n",
      "122500 / 300000 eps 0.192 |  avgR -0.897 | Loss 4.645e-02 | Grad 2.232e-02 \n",
      "123000 / 300000 eps 0.188 |  avgR -0.618 | Loss 6.116e-02 | Grad 5.786e-02 \n",
      "123500 / 300000 eps 0.185 |  avgR -0.396 | Loss 4.264e-02 | Grad 4.722e-02 \n",
      "124000 / 300000 eps 0.182 |  avgR -0.765 | Loss 5.799e-02 | Grad 1.969e-02 \n",
      "124500 / 300000 eps 0.178 |  avgR -0.721 | Loss 3.600e-02 | Grad 5.699e-02 \n",
      "125000 / 300000 eps 0.175 |  avgR -0.618 | Loss 4.175e-02 | Grad 6.545e-02 \n",
      "125500 / 300000 eps 0.172 |  avgR -0.537 | Loss 4.321e-02 | Grad 5.897e-02 \n",
      "126000 / 300000 eps 0.168 |  avgR -0.794 | Loss 5.186e-02 | Grad 6.759e-02 \n",
      "126500 / 300000 eps 0.165 |  avgR -0.713 | Loss 5.942e-02 | Grad 7.690e-02 \n",
      "127000 / 300000 eps 0.162 |  avgR -0.513 | Loss 5.899e-02 | Grad 6.231e-02 \n",
      "127500 / 300000 eps 0.158 |  avgR -0.456 | Loss 4.059e-02 | Grad 1.916e-02 \n",
      "128000 / 300000 eps 0.155 |  avgR -0.495 | Loss 4.335e-02 | Grad 2.339e-02 \n",
      "128500 / 300000 eps 0.152 |  avgR -0.589 | Loss 2.604e-02 | Grad 1.242e-02 \n",
      "129000 / 300000 eps 0.149 |  avgR -0.618 | Loss 4.897e-02 | Grad 1.710e-02 \n",
      "129500 / 300000 eps 0.145 |  avgR -0.713 | Loss 3.873e-02 | Grad 2.847e-02 \n",
      "130000 / 300000 eps 0.142 |  avgR -0.626 | Loss 3.304e-02 | Grad 1.122e-02 \n",
      "Evaluation ... Avg Reward -1.0226056468172262\n",
      "130500 / 300000 eps 0.139 |  avgR -0.665 | Loss 3.709e-02 | Grad 1.684e-02 \n",
      "131000 / 300000 eps 0.135 |  avgR -0.080 | Loss 4.257e-02 | Grad 3.961e-02 \n",
      "131500 / 300000 eps 0.132 |  avgR -0.414 | Loss 3.913e-02 | Grad 1.798e-02 \n",
      "132000 / 300000 eps 0.129 |  avgR -0.403 | Loss 2.804e-02 | Grad 1.100e-02 \n",
      "132500 / 300000 eps 0.125 |  avgR -0.481 | Loss 4.984e-02 | Grad 2.611e-02 \n",
      "133000 / 300000 eps 0.122 |  avgR -0.673 | Loss 4.102e-02 | Grad 5.601e-02 \n",
      "133500 / 300000 eps 0.119 |  avgR -0.052 | Loss 3.910e-02 | Grad 2.863e-02 \n",
      "134000 / 300000 eps 0.116 |  avgR -0.726 | Loss 4.164e-02 | Grad 1.959e-02 \n",
      "134500 / 300000 eps 0.112 |  avgR -0.462 | Loss 4.105e-02 | Grad 2.394e-02 \n",
      "135000 / 300000 eps 0.109 |  avgR -0.384 | Loss 3.462e-02 | Grad 1.386e-02 \n",
      "135500 / 300000 eps 0.106 |  avgR -0.513 | Loss 4.496e-02 | Grad 2.056e-02 \n",
      "136000 / 300000 eps 0.102 |  avgR -0.846 | Loss 4.273e-02 | Grad 3.894e-02 \n",
      "136500 / 300000 eps 0.099 |  avgR -0.576 | Loss 3.558e-02 | Grad 1.888e-02 \n",
      "137000 / 300000 eps 0.096 |  avgR -0.487 | Loss 3.265e-02 | Grad 4.445e-02 \n",
      "137500 / 300000 eps 0.092 |  avgR -0.578 | Loss 4.763e-02 | Grad 1.806e-02 \n",
      "138000 / 300000 eps 0.089 |  avgR -0.699 | Loss 3.791e-02 | Grad 3.018e-02 \n",
      "138500 / 300000 eps 0.086 |  avgR -0.737 | Loss 4.610e-02 | Grad 1.969e-02 \n",
      "139000 / 300000 eps 0.083 |  avgR -0.825 | Loss 4.860e-02 | Grad 1.822e-02 \n",
      "139500 / 300000 eps 0.079 |  avgR -0.618 | Loss 3.237e-02 | Grad 1.405e-02 \n",
      "140000 / 300000 eps 0.076 |  avgR -0.470 | Loss 3.156e-02 | Grad 2.031e-02 \n",
      "Evaluation ... Avg Reward -1.0240554358485907\n",
      "140500 / 300000 eps 0.073 |  avgR -0.803 | Loss 2.897e-02 | Grad 9.758e-03 \n",
      "141000 / 300000 eps 0.069 |  avgR -0.850 | Loss 2.971e-02 | Grad 1.788e-02 \n",
      "141500 / 300000 eps 0.066 |  avgR -0.871 | Loss 5.577e-02 | Grad 2.049e-02 \n",
      "142000 / 300000 eps 0.063 |  avgR -0.770 | Loss 3.795e-02 | Grad 2.595e-02 \n",
      "142500 / 300000 eps 0.059 |  avgR -0.749 | Loss 4.291e-02 | Grad 1.821e-02 \n",
      "143000 / 300000 eps 0.056 |  avgR -0.737 | Loss 4.199e-02 | Grad 4.457e-02 \n",
      "143500 / 300000 eps 0.053 |  avgR -0.669 | Loss 4.205e-02 | Grad 1.371e-02 \n",
      "144000 / 300000 eps 0.050 |  avgR -0.687 | Loss 2.942e-02 | Grad 1.072e-02 \n",
      "144500 / 300000 eps 0.046 |  avgR -0.567 | Loss 4.176e-02 | Grad 2.425e-02 \n",
      "145000 / 300000 eps 0.043 |  avgR -0.629 | Loss 4.691e-02 | Grad 2.082e-02 \n",
      "145500 / 300000 eps 0.040 |  avgR -0.549 | Loss 2.872e-02 | Grad 2.218e-02 \n",
      "146000 / 300000 eps 0.036 |  avgR -0.588 | Loss 3.122e-02 | Grad 1.962e-02 \n",
      "146500 / 300000 eps 0.033 |  avgR -0.768 | Loss 3.092e-02 | Grad 8.413e-03 \n",
      "147000 / 300000 eps 0.030 |  avgR -0.485 | Loss 4.400e-02 | Grad 1.136e-02 \n",
      "147500 / 300000 eps 0.026 |  avgR -0.317 | Loss 4.877e-02 | Grad 2.299e-02 \n",
      "148000 / 300000 eps 0.023 |  avgR -0.568 | Loss 4.228e-02 | Grad 3.226e-02 \n",
      "148500 / 300000 eps 0.020 |  avgR -0.462 | Loss 4.038e-02 | Grad 1.398e-02 \n",
      "149000 / 300000 eps 0.017 |  avgR -0.474 | Loss 3.944e-02 | Grad 1.040e-02 \n",
      "149500 / 300000 eps 0.013 |  avgR -0.997 | Loss 4.288e-02 | Grad 2.854e-02 \n",
      "150000 / 300000 eps 0.010 |  avgR -0.739 | Loss 3.362e-02 | Grad 3.267e-02 \n",
      "Evaluation ... Avg Reward -1.0332853200134864\n",
      "150500 / 300000 eps 0.010 |  avgR -0.811 | Loss 4.009e-02 | Grad 2.077e-02 \n",
      "151000 / 300000 eps 0.010 |  avgR -0.789 | Loss 2.466e-02 | Grad 1.540e-02 \n",
      "151500 / 300000 eps 0.010 |  avgR -0.789 | Loss 4.992e-02 | Grad 1.746e-02 \n",
      "152000 / 300000 eps 0.010 |  avgR -0.654 | Loss 2.572e-02 | Grad 8.855e-03 \n",
      "152500 / 300000 eps 0.010 |  avgR -0.713 | Loss 4.589e-02 | Grad 3.975e-02 \n",
      "153000 / 300000 eps 0.010 |  avgR -0.411 | Loss 3.498e-02 | Grad 1.496e-02 \n",
      "153500 / 300000 eps 0.010 |  avgR -0.521 | Loss 3.846e-02 | Grad 2.840e-02 \n",
      "154000 / 300000 eps 0.010 |  avgR -0.773 | Loss 5.144e-02 | Grad 1.432e-02 \n",
      "154500 / 300000 eps 0.010 |  avgR -0.789 | Loss 2.533e-02 | Grad 1.378e-02 \n",
      "155000 / 300000 eps 0.010 |  avgR -0.549 | Loss 3.116e-02 | Grad 9.447e-03 \n",
      "155500 / 300000 eps 0.010 |  avgR -0.598 | Loss 2.704e-02 | Grad 1.319e-02 \n",
      "156000 / 300000 eps 0.010 |  avgR -0.305 | Loss 3.073e-02 | Grad 1.680e-02 \n",
      "156500 / 300000 eps 0.010 |  avgR -0.781 | Loss 3.401e-02 | Grad 2.097e-02 \n",
      "157000 / 300000 eps 0.010 |  avgR -0.956 | Loss 3.878e-02 | Grad 1.988e-02 \n"
     ]
    },
    {
     "name": "stdout",
     "output_type": "stream",
     "text": [
      "157500 / 300000 eps 0.010 |  avgR -0.646 | Loss 3.604e-02 | Grad 1.518e-02 \n",
      "158000 / 300000 eps 0.010 |  avgR -0.795 | Loss 4.983e-02 | Grad 2.800e-02 \n",
      "158500 / 300000 eps 0.010 |  avgR -0.912 | Loss 5.231e-02 | Grad 1.574e-02 \n",
      "159000 / 300000 eps 0.010 |  avgR -0.687 | Loss 4.982e-02 | Grad 1.415e-02 \n",
      "159500 / 300000 eps 0.010 |  avgR -0.734 | Loss 6.724e-02 | Grad 5.264e-02 \n",
      "160000 / 300000 eps 0.010 |  avgR -0.494 | Loss 3.724e-02 | Grad 1.024e-02 \n",
      "Evaluation ... Avg Reward -0.030233368351594483\n",
      "160500 / 300000 eps 0.010 |  avgR -0.529 | Loss 4.092e-02 | Grad 5.551e-02 \n",
      "161000 / 300000 eps 0.010 |  avgR -0.484 | Loss 3.585e-02 | Grad 1.442e-02 \n",
      "161500 / 300000 eps 0.010 |  avgR -0.257 | Loss 5.366e-02 | Grad 5.785e-02 \n",
      "162000 / 300000 eps 0.010 |  avgR -0.197 | Loss 3.791e-02 | Grad 9.239e-03 \n",
      "162500 / 300000 eps 0.010 |  avgR -0.589 | Loss 3.234e-02 | Grad 1.020e-02 \n",
      "163000 / 300000 eps 0.010 |  avgR -0.662 | Loss 2.640e-02 | Grad 1.841e-02 \n",
      "163500 / 300000 eps 0.010 |  avgR -0.697 | Loss 6.160e-02 | Grad 1.239e-02 \n",
      "164000 / 300000 eps 0.010 |  avgR -0.575 | Loss 4.096e-02 | Grad 1.695e-02 \n",
      "164500 / 300000 eps 0.010 |  avgR -0.302 | Loss 4.049e-02 | Grad 2.973e-02 \n",
      "165000 / 300000 eps 0.010 |  avgR -0.884 | Loss 4.459e-02 | Grad 1.834e-02 \n",
      "165500 / 300000 eps 0.010 |  avgR -0.571 | Loss 4.092e-02 | Grad 1.070e-02 \n",
      "166000 / 300000 eps 0.010 |  avgR -0.676 | Loss 4.935e-02 | Grad 3.252e-02 \n",
      "166500 / 300000 eps 0.010 |  avgR -0.628 | Loss 4.448e-02 | Grad 3.709e-02 \n",
      "167000 / 300000 eps 0.010 |  avgR -0.287 | Loss 4.899e-02 | Grad 6.974e-02 \n",
      "167500 / 300000 eps 0.010 |  avgR -0.678 | Loss 4.490e-02 | Grad 3.088e-02 \n",
      "168000 / 300000 eps 0.010 |  avgR -0.743 | Loss 3.819e-02 | Grad 2.027e-02 \n",
      "168500 / 300000 eps 0.010 |  avgR -0.528 | Loss 4.104e-02 | Grad 2.139e-02 \n",
      "169000 / 300000 eps 0.010 |  avgR -0.476 | Loss 4.793e-02 | Grad 1.957e-02 \n",
      "169500 / 300000 eps 0.010 |  avgR -0.252 | Loss 3.668e-02 | Grad 9.501e-03 \n",
      "170000 / 300000 eps 0.010 |  avgR -0.457 | Loss 3.267e-02 | Grad 1.099e-02 \n",
      "Evaluation ... Avg Reward -0.03224964476462113\n",
      "170500 / 300000 eps 0.010 |  avgR -0.041 | Loss 3.010e-02 | Grad 1.345e-02 \n",
      "171000 / 300000 eps 0.010 |  avgR -0.510 | Loss 4.590e-02 | Grad 1.802e-02 \n",
      "171500 / 300000 eps 0.010 |  avgR -0.178 | Loss 3.985e-02 | Grad 3.081e-02 \n",
      "172000 / 300000 eps 0.010 |  avgR -0.109 | Loss 4.117e-02 | Grad 1.645e-02 \n",
      "172500 / 300000 eps 0.010 |  avgR -0.864 | Loss 4.842e-02 | Grad 3.366e-02 \n",
      "173000 / 300000 eps 0.010 |  avgR -0.611 | Loss 5.523e-02 | Grad 3.220e-02 \n",
      "173500 / 300000 eps 0.010 |  avgR -0.052 | Loss 2.779e-02 | Grad 1.038e-02 \n",
      "174000 / 300000 eps 0.010 |  avgR -0.119 | Loss 3.918e-02 | Grad 2.899e-02 \n",
      "174500 / 300000 eps 0.010 |  avgR -0.608 | Loss 5.024e-02 | Grad 1.975e-02 \n",
      "175000 / 300000 eps 0.010 |  avgR -0.751 | Loss 5.488e-02 | Grad 4.563e-02 \n",
      "175500 / 300000 eps 0.010 |  avgR 0.007 | Loss 4.002e-02 | Grad 2.252e-02 \n",
      "176000 / 300000 eps 0.010 |  avgR -0.501 | Loss 4.908e-02 | Grad 3.789e-02 \n",
      "176500 / 300000 eps 0.010 |  avgR -0.771 | Loss 6.282e-02 | Grad 5.319e-02 \n",
      "177000 / 300000 eps 0.010 |  avgR -0.137 | Loss 3.087e-02 | Grad 1.774e-02 \n",
      "177500 / 300000 eps 0.010 |  avgR -0.138 | Loss 3.949e-02 | Grad 1.306e-02 \n",
      "178000 / 300000 eps 0.010 |  avgR -0.510 | Loss 5.158e-02 | Grad 2.917e-02 \n",
      "178500 / 300000 eps 0.010 |  avgR -0.421 | Loss 5.169e-02 | Grad 2.610e-02 \n",
      "179000 / 300000 eps 0.010 |  avgR 0.038 | Loss 4.719e-02 | Grad 1.793e-02 \n",
      "179500 / 300000 eps 0.010 |  avgR -0.373 | Loss 5.434e-02 | Grad 3.298e-02 \n",
      "180000 / 300000 eps 0.010 |  avgR -0.579 | Loss 5.296e-02 | Grad 2.237e-02 \n",
      "Evaluation ... Avg Reward -0.03452765605619404\n",
      "180500 / 300000 eps 0.010 |  avgR -0.239 | Loss 3.499e-02 | Grad 2.044e-02 \n",
      "181000 / 300000 eps 0.010 |  avgR -0.421 | Loss 5.745e-02 | Grad 2.557e-02 \n",
      "181500 / 300000 eps 0.010 |  avgR -0.228 | Loss 6.168e-02 | Grad 2.814e-02 \n",
      "182000 / 300000 eps 0.010 |  avgR -0.101 | Loss 2.587e-02 | Grad 2.873e-02 \n",
      "182500 / 300000 eps 0.010 |  avgR -0.522 | Loss 4.796e-02 | Grad 2.139e-02 \n",
      "183000 / 300000 eps 0.010 |  avgR -0.373 | Loss 5.539e-02 | Grad 5.723e-02 \n",
      "183500 / 300000 eps 0.010 |  avgR -0.138 | Loss 3.813e-02 | Grad 3.252e-02 \n",
      "184000 / 300000 eps 0.010 |  avgR -0.285 | Loss 3.826e-02 | Grad 1.556e-02 \n",
      "184500 / 300000 eps 0.010 |  avgR -0.706 | Loss 4.337e-02 | Grad 2.618e-02 \n",
      "185000 / 300000 eps 0.010 |  avgR -0.508 | Loss 3.817e-02 | Grad 1.072e-02 \n",
      "185500 / 300000 eps 0.010 |  avgR -0.471 | Loss 4.757e-02 | Grad 1.319e-02 \n",
      "186000 / 300000 eps 0.010 |  avgR -0.548 | Loss 3.925e-02 | Grad 3.507e-02 \n",
      "186500 / 300000 eps 0.010 |  avgR -0.853 | Loss 8.428e-02 | Grad 7.514e-02 \n",
      "187000 / 300000 eps 0.010 |  avgR -0.908 | Loss 3.090e-02 | Grad 9.906e-03 \n",
      "187500 / 300000 eps 0.010 |  avgR -0.659 | Loss 6.364e-02 | Grad 5.841e-02 \n",
      "188000 / 300000 eps 0.010 |  avgR -0.332 | Loss 6.091e-02 | Grad 6.089e-02 \n",
      "188500 / 300000 eps 0.010 |  avgR -0.542 | Loss 4.804e-02 | Grad 5.619e-02 \n",
      "189000 / 300000 eps 0.010 |  avgR -0.390 | Loss 4.202e-02 | Grad 1.110e-02 \n",
      "189500 / 300000 eps 0.010 |  avgR -0.880 | Loss 4.854e-02 | Grad 2.757e-02 \n",
      "190000 / 300000 eps 0.010 |  avgR -0.481 | Loss 4.228e-02 | Grad 2.273e-02 \n",
      "Evaluation ... Avg Reward 0.966783381729452\n",
      "190500 / 300000 eps 0.010 |  avgR -0.171 | Loss 4.995e-02 | Grad 2.981e-02 \n",
      "191000 / 300000 eps 0.010 |  avgR -0.365 | Loss 5.322e-02 | Grad 1.122e-02 \n",
      "191500 / 300000 eps 0.010 |  avgR -0.743 | Loss 4.024e-02 | Grad 1.429e-02 \n",
      "192000 / 300000 eps 0.010 |  avgR -0.782 | Loss 4.617e-02 | Grad 2.320e-02 \n",
      "Saving new model with eval reward 0.967 \n",
      "192500 / 300000 eps 0.010 |  avgR -0.462 | Loss 5.511e-02 | Grad 1.689e-02 \n",
      "193000 / 300000 eps 0.010 |  avgR -0.287 | Loss 5.085e-02 | Grad 1.334e-02 \n",
      "193500 / 300000 eps 0.010 |  avgR -0.781 | Loss 4.455e-02 | Grad 3.605e-02 \n",
      "194000 / 300000 eps 0.010 |  avgR -0.490 | Loss 2.433e-02 | Grad 8.209e-03 \n",
      "194500 / 300000 eps 0.010 |  avgR -0.428 | Loss 4.547e-02 | Grad 2.291e-02 \n",
      "195000 / 300000 eps 0.010 |  avgR -0.229 | Loss 5.680e-02 | Grad 2.421e-02 \n",
      "Saving new model with eval reward 0.967 \n",
      "195500 / 300000 eps 0.010 |  avgR -0.746 | Loss 2.661e-02 | Grad 8.942e-03 \n",
      "196000 / 300000 eps 0.010 |  avgR -0.754 | Loss 4.392e-02 | Grad 3.918e-02 \n",
      "196500 / 300000 eps 0.010 |  avgR -0.694 | Loss 3.957e-02 | Grad 1.516e-02 \n",
      "197000 / 300000 eps 0.010 |  avgR -0.206 | Loss 3.930e-02 | Grad 1.758e-02 \n",
      "197500 / 300000 eps 0.010 |  avgR -0.384 | Loss 6.189e-02 | Grad 3.465e-02 \n",
      "198000 / 300000 eps 0.010 |  avgR -0.452 | Loss 3.852e-02 | Grad 1.882e-02 \n",
      "Saving new model with eval reward 0.967 \n",
      "198500 / 300000 eps 0.010 |  avgR -0.935 | Loss 3.910e-02 | Grad 1.086e-02 \n",
      "199000 / 300000 eps 0.010 |  avgR -0.838 | Loss 4.154e-02 | Grad 1.570e-02 \n",
      "199500 / 300000 eps 0.010 |  avgR -0.645 | Loss 3.578e-02 | Grad 1.137e-02 \n",
      "200000 / 300000 eps 0.010 |  avgR -0.053 | Loss 4.400e-02 | Grad 1.988e-02 \n",
      "Evaluation ... Avg Reward -0.03100874156409331\n",
      "200500 / 300000 eps 0.010 |  avgR -0.415 | Loss 3.403e-02 | Grad 4.246e-02 \n",
      "201000 / 300000 eps 0.010 |  avgR -0.394 | Loss 4.123e-02 | Grad 8.702e-03 \n",
      "201500 / 300000 eps 0.010 |  avgR -0.181 | Loss 4.498e-02 | Grad 2.273e-02 \n",
      "202000 / 300000 eps 0.010 |  avgR -0.350 | Loss 5.982e-02 | Grad 2.812e-02 \n",
      "202500 / 300000 eps 0.010 |  avgR -0.582 | Loss 2.180e-02 | Grad 1.032e-02 \n",
      "203000 / 300000 eps 0.010 |  avgR -0.646 | Loss 4.651e-02 | Grad 1.097e-02 \n",
      "203500 / 300000 eps 0.010 |  avgR -0.333 | Loss 5.898e-02 | Grad 2.092e-02 \n",
      "204000 / 300000 eps 0.010 |  avgR -0.014 | Loss 4.634e-02 | Grad 9.723e-03 \n",
      "204500 / 300000 eps 0.010 |  avgR -0.786 | Loss 5.778e-02 | Grad 4.873e-02 \n",
      "205000 / 300000 eps 0.010 |  avgR -0.778 | Loss 4.429e-02 | Grad 4.316e-02 \n",
      "205500 / 300000 eps 0.010 |  avgR -0.332 | Loss 4.066e-02 | Grad 1.435e-02 \n",
      "206000 / 300000 eps 0.010 |  avgR -0.177 | Loss 2.904e-02 | Grad 8.876e-03 \n",
      "206500 / 300000 eps 0.010 |  avgR -0.851 | Loss 5.322e-02 | Grad 8.177e-02 \n",
      "207000 / 300000 eps 0.010 |  avgR -0.726 | Loss 3.671e-02 | Grad 1.650e-02 \n",
      "207500 / 300000 eps 0.010 |  avgR -0.791 | Loss 4.002e-02 | Grad 2.453e-02 \n",
      "208000 / 300000 eps 0.010 |  avgR -0.562 | Loss 3.143e-02 | Grad 9.650e-03 \n",
      "208500 / 300000 eps 0.010 |  avgR -0.491 | Loss 3.440e-02 | Grad 1.209e-02 \n",
      "209000 / 300000 eps 0.010 |  avgR -0.805 | Loss 3.731e-02 | Grad 2.568e-02 \n"
     ]
    },
    {
     "name": "stdout",
     "output_type": "stream",
     "text": [
      "209500 / 300000 eps 0.010 |  avgR -0.710 | Loss 3.137e-02 | Grad 1.461e-02 \n",
      "210000 / 300000 eps 0.010 |  avgR -0.369 | Loss 5.923e-02 | Grad 2.231e-02 \n",
      "Evaluation ... Avg Reward -1.0344390875614382\n",
      "210500 / 300000 eps 0.010 |  avgR -0.397 | Loss 2.452e-02 | Grad 4.218e-02 \n",
      "211000 / 300000 eps 0.010 |  avgR -0.561 | Loss 4.058e-02 | Grad 1.724e-02 \n",
      "211500 / 300000 eps 0.010 |  avgR -0.538 | Loss 3.882e-02 | Grad 1.850e-02 \n",
      "212000 / 300000 eps 0.010 |  avgR -0.557 | Loss 3.632e-02 | Grad 9.508e-03 \n",
      "212500 / 300000 eps 0.010 |  avgR -0.365 | Loss 3.835e-02 | Grad 1.006e-02 \n",
      "213000 / 300000 eps 0.010 |  avgR -0.269 | Loss 4.923e-02 | Grad 1.623e-02 \n",
      "213500 / 300000 eps 0.010 |  avgR -0.573 | Loss 3.087e-02 | Grad 2.988e-02 \n",
      "214000 / 300000 eps 0.010 |  avgR -0.970 | Loss 4.657e-02 | Grad 3.214e-02 \n",
      "214500 / 300000 eps 0.010 |  avgR -1.029 | Loss 5.568e-02 | Grad 2.819e-02 \n",
      "215000 / 300000 eps 0.010 |  avgR -0.931 | Loss 4.910e-02 | Grad 2.553e-02 \n",
      "215500 / 300000 eps 0.010 |  avgR -0.889 | Loss 3.496e-02 | Grad 1.076e-02 \n",
      "216000 / 300000 eps 0.010 |  avgR -0.874 | Loss 4.622e-02 | Grad 1.401e-02 \n",
      "216500 / 300000 eps 0.010 |  avgR -0.570 | Loss 4.229e-02 | Grad 1.452e-02 \n",
      "217000 / 300000 eps 0.010 |  avgR -0.416 | Loss 3.750e-02 | Grad 1.387e-02 \n",
      "217500 / 300000 eps 0.010 |  avgR -0.259 | Loss 2.627e-02 | Grad 2.109e-02 \n",
      "218000 / 300000 eps 0.010 |  avgR -0.338 | Loss 2.935e-02 | Grad 1.433e-02 \n",
      "218500 / 300000 eps 0.010 |  avgR -0.581 | Loss 3.685e-02 | Grad 1.745e-02 \n",
      "219000 / 300000 eps 0.010 |  avgR -0.799 | Loss 4.018e-02 | Grad 3.616e-02 \n",
      "219500 / 300000 eps 0.010 |  avgR -0.584 | Loss 3.812e-02 | Grad 2.161e-02 \n",
      "220000 / 300000 eps 0.010 |  avgR -0.581 | Loss 5.272e-02 | Grad 1.196e-02 \n",
      "Evaluation ... Avg Reward -1.016617748581898\n",
      "220500 / 300000 eps 0.010 |  avgR -0.546 | Loss 2.913e-02 | Grad 1.931e-02 \n",
      "221000 / 300000 eps 0.010 |  avgR -0.707 | Loss 3.523e-02 | Grad 2.739e-02 \n",
      "221500 / 300000 eps 0.010 |  avgR -0.337 | Loss 3.420e-02 | Grad 8.981e-03 \n",
      "222000 / 300000 eps 0.010 |  avgR -0.131 | Loss 3.148e-02 | Grad 1.785e-02 \n",
      "222500 / 300000 eps 0.010 |  avgR -0.256 | Loss 3.908e-02 | Grad 9.759e-03 \n",
      "223000 / 300000 eps 0.010 |  avgR -0.304 | Loss 4.913e-02 | Grad 3.858e-02 \n",
      "223500 / 300000 eps 0.010 |  avgR -0.819 | Loss 5.515e-02 | Grad 3.588e-02 \n",
      "224000 / 300000 eps 0.010 |  avgR -0.759 | Loss 3.311e-02 | Grad 1.055e-02 \n",
      "224500 / 300000 eps 0.010 |  avgR -0.641 | Loss 5.502e-02 | Grad 3.303e-02 \n",
      "225000 / 300000 eps 0.010 |  avgR -0.698 | Loss 5.084e-02 | Grad 2.125e-02 \n",
      "225500 / 300000 eps 0.010 |  avgR -0.510 | Loss 3.954e-02 | Grad 2.361e-02 \n",
      "226000 / 300000 eps 0.010 |  avgR -0.772 | Loss 3.577e-02 | Grad 2.423e-02 \n",
      "226500 / 300000 eps 0.010 |  avgR -0.516 | Loss 4.858e-02 | Grad 3.186e-02 \n",
      "227000 / 300000 eps 0.010 |  avgR -0.917 | Loss 3.474e-02 | Grad 2.023e-02 \n",
      "227500 / 300000 eps 0.010 |  avgR -0.551 | Loss 2.380e-02 | Grad 1.514e-02 \n",
      "228000 / 300000 eps 0.010 |  avgR -0.600 | Loss 4.247e-02 | Grad 1.743e-02 \n",
      "228500 / 300000 eps 0.010 |  avgR -0.780 | Loss 2.367e-02 | Grad 8.798e-03 \n",
      "229000 / 300000 eps 0.010 |  avgR -0.442 | Loss 2.964e-02 | Grad 2.294e-02 \n",
      "229500 / 300000 eps 0.010 |  avgR -0.668 | Loss 3.600e-02 | Grad 2.861e-02 \n",
      "230000 / 300000 eps 0.010 |  avgR -0.865 | Loss 4.531e-02 | Grad 1.735e-02 \n",
      "Evaluation ... Avg Reward 0.9683225082463881\n",
      "230500 / 300000 eps 0.010 |  avgR -0.387 | Loss 4.353e-02 | Grad 1.774e-02 \n",
      "231000 / 300000 eps 0.010 |  avgR -0.529 | Loss 4.224e-02 | Grad 1.505e-02 \n",
      "Saving new model with eval reward 0.968 \n",
      "231500 / 300000 eps 0.010 |  avgR -0.315 | Loss 5.279e-02 | Grad 3.378e-02 \n",
      "232000 / 300000 eps 0.010 |  avgR -0.333 | Loss 3.247e-02 | Grad 2.420e-02 \n",
      "232500 / 300000 eps 0.010 |  avgR -0.476 | Loss 4.419e-02 | Grad 3.647e-02 \n",
      "233000 / 300000 eps 0.010 |  avgR -0.587 | Loss 2.260e-02 | Grad 1.290e-02 \n",
      "233500 / 300000 eps 0.010 |  avgR -0.718 | Loss 5.405e-02 | Grad 5.450e-02 \n",
      "234000 / 300000 eps 0.010 |  avgR -0.561 | Loss 4.051e-02 | Grad 3.065e-02 \n",
      "Saving new model with eval reward 0.968 \n",
      "234500 / 300000 eps 0.010 |  avgR -0.409 | Loss 3.306e-02 | Grad 1.603e-02 \n",
      "235000 / 300000 eps 0.010 |  avgR -0.457 | Loss 3.323e-02 | Grad 1.436e-02 \n",
      "235500 / 300000 eps 0.010 |  avgR -0.689 | Loss 5.022e-02 | Grad 2.127e-02 \n",
      "236000 / 300000 eps 0.010 |  avgR -0.324 | Loss 2.631e-02 | Grad 2.263e-02 \n",
      "236500 / 300000 eps 0.010 |  avgR -0.255 | Loss 3.239e-02 | Grad 2.973e-02 \n",
      "237000 / 300000 eps 0.010 |  avgR -0.658 | Loss 4.626e-02 | Grad 6.518e-02 \n",
      "Saving new model with eval reward 0.968 \n",
      "237500 / 300000 eps 0.010 |  avgR -0.906 | Loss 4.419e-02 | Grad 2.133e-02 \n",
      "238000 / 300000 eps 0.010 |  avgR -0.936 | Loss 5.102e-02 | Grad 5.981e-02 \n",
      "238500 / 300000 eps 0.010 |  avgR -0.871 | Loss 4.094e-02 | Grad 1.506e-02 \n",
      "239000 / 300000 eps 0.010 |  avgR -0.513 | Loss 4.546e-02 | Grad 3.797e-02 \n",
      "239500 / 300000 eps 0.010 |  avgR -0.492 | Loss 4.736e-02 | Grad 1.758e-02 \n",
      "240000 / 300000 eps 0.010 |  avgR -0.819 | Loss 3.972e-02 | Grad 1.260e-02 \n",
      "Saving new model with eval reward 0.968 \n",
      "Evaluation ... Avg Reward -0.030543891927703598\n",
      "240500 / 300000 eps 0.010 |  avgR -0.790 | Loss 4.153e-02 | Grad 2.647e-02 \n",
      "241000 / 300000 eps 0.010 |  avgR -0.883 | Loss 3.123e-02 | Grad 1.382e-02 \n",
      "241500 / 300000 eps 0.010 |  avgR -0.528 | Loss 4.385e-02 | Grad 1.971e-02 \n",
      "242000 / 300000 eps 0.010 |  avgR -0.660 | Loss 3.299e-02 | Grad 2.109e-02 \n",
      "242500 / 300000 eps 0.010 |  avgR -0.880 | Loss 2.545e-02 | Grad 1.408e-02 \n",
      "243000 / 300000 eps 0.010 |  avgR -0.426 | Loss 3.164e-02 | Grad 1.041e-02 \n",
      "243500 / 300000 eps 0.010 |  avgR -0.859 | Loss 4.696e-02 | Grad 3.198e-02 \n",
      "244000 / 300000 eps 0.010 |  avgR -0.768 | Loss 5.950e-02 | Grad 2.371e-02 \n",
      "244500 / 300000 eps 0.010 |  avgR -0.615 | Loss 5.176e-02 | Grad 3.179e-02 \n",
      "245000 / 300000 eps 0.010 |  avgR -0.374 | Loss 6.524e-02 | Grad 2.071e-02 \n",
      "245500 / 300000 eps 0.010 |  avgR -0.375 | Loss 4.586e-02 | Grad 1.021e-02 \n",
      "246000 / 300000 eps 0.010 |  avgR -0.215 | Loss 3.117e-02 | Grad 1.312e-02 \n",
      "246500 / 300000 eps 0.010 |  avgR -0.398 | Loss 4.172e-02 | Grad 2.827e-02 \n",
      "247000 / 300000 eps 0.010 |  avgR -0.768 | Loss 5.687e-02 | Grad 4.020e-02 \n",
      "247500 / 300000 eps 0.010 |  avgR -0.807 | Loss 3.055e-02 | Grad 1.991e-02 \n",
      "248000 / 300000 eps 0.010 |  avgR -0.723 | Loss 3.711e-02 | Grad 1.068e-02 \n",
      "248500 / 300000 eps 0.010 |  avgR -0.409 | Loss 4.738e-02 | Grad 1.703e-02 \n",
      "249000 / 300000 eps 0.010 |  avgR 0.036 | Loss 3.541e-02 | Grad 1.139e-02 \n",
      "249500 / 300000 eps 0.010 |  avgR -0.244 | Loss 3.336e-02 | Grad 1.771e-02 \n",
      "250000 / 300000 eps 0.010 |  avgR -0.426 | Loss 4.483e-02 | Grad 1.623e-02 \n",
      "Evaluation ... Avg Reward 0.9700230245669456\n",
      "250500 / 300000 eps 0.010 |  avgR -0.759 | Loss 4.661e-02 | Grad 1.359e-02 \n",
      "251000 / 300000 eps 0.010 |  avgR -0.720 | Loss 4.640e-02 | Grad 3.745e-02 \n",
      "251500 / 300000 eps 0.010 |  avgR -0.589 | Loss 3.930e-02 | Grad 1.668e-02 \n",
      "252000 / 300000 eps 0.010 |  avgR -0.540 | Loss 5.105e-02 | Grad 4.013e-02 \n",
      "Saving new model with eval reward 0.970 \n",
      "252500 / 300000 eps 0.010 |  avgR -0.653 | Loss 4.450e-02 | Grad 3.139e-02 \n",
      "253000 / 300000 eps 0.010 |  avgR -0.561 | Loss 5.110e-02 | Grad 1.620e-02 \n",
      "253500 / 300000 eps 0.010 |  avgR -0.820 | Loss 4.593e-02 | Grad 2.325e-02 \n",
      "254000 / 300000 eps 0.010 |  avgR -0.580 | Loss 6.161e-02 | Grad 1.728e-02 \n",
      "254500 / 300000 eps 0.010 |  avgR -0.159 | Loss 2.117e-02 | Grad 1.615e-02 \n",
      "255000 / 300000 eps 0.010 |  avgR -0.740 | Loss 3.415e-02 | Grad 1.000e-02 \n",
      "Saving new model with eval reward 0.970 \n",
      "255500 / 300000 eps 0.010 |  avgR -0.226 | Loss 5.870e-02 | Grad 4.109e-02 \n",
      "256000 / 300000 eps 0.010 |  avgR -0.945 | Loss 5.964e-02 | Grad 3.499e-02 \n",
      "256500 / 300000 eps 0.010 |  avgR -0.663 | Loss 4.934e-02 | Grad 1.011e-02 \n",
      "257000 / 300000 eps 0.010 |  avgR -0.353 | Loss 6.650e-02 | Grad 7.119e-02 \n",
      "257500 / 300000 eps 0.010 |  avgR -0.304 | Loss 5.341e-02 | Grad 1.204e-02 \n",
      "258000 / 300000 eps 0.010 |  avgR -0.360 | Loss 5.040e-02 | Grad 4.684e-02 \n",
      "Saving new model with eval reward 0.970 \n",
      "258500 / 300000 eps 0.010 |  avgR -0.627 | Loss 3.873e-02 | Grad 5.005e-02 \n",
      "259000 / 300000 eps 0.010 |  avgR -0.558 | Loss 6.830e-02 | Grad 8.519e-02 \n",
      "259500 / 300000 eps 0.010 |  avgR -0.578 | Loss 5.875e-02 | Grad 2.790e-02 \n",
      "260000 / 300000 eps 0.010 |  avgR -0.246 | Loss 3.434e-02 | Grad 2.714e-02 \n",
      "Evaluation ... Avg Reward -1.029950253372917\n",
      "260500 / 300000 eps 0.010 |  avgR -0.383 | Loss 5.399e-02 | Grad 9.446e-03 \n",
      "261000 / 300000 eps 0.010 |  avgR 0.097 | Loss 4.671e-02 | Grad 1.905e-02 \n",
      "261500 / 300000 eps 0.010 |  avgR -0.091 | Loss 5.564e-02 | Grad 3.942e-02 \n",
      "262000 / 300000 eps 0.010 |  avgR -0.480 | Loss 4.250e-02 | Grad 4.926e-02 \n",
      "262500 / 300000 eps 0.010 |  avgR -0.868 | Loss 4.488e-02 | Grad 9.296e-03 \n",
      "263000 / 300000 eps 0.010 |  avgR -0.411 | Loss 3.301e-02 | Grad 1.244e-02 \n",
      "263500 / 300000 eps 0.010 |  avgR -0.520 | Loss 2.870e-02 | Grad 8.642e-03 \n",
      "264000 / 300000 eps 0.010 |  avgR -0.336 | Loss 3.276e-02 | Grad 1.612e-02 \n",
      "264500 / 300000 eps 0.010 |  avgR -0.219 | Loss 6.141e-02 | Grad 3.235e-02 \n",
      "265000 / 300000 eps 0.010 |  avgR -0.501 | Loss 3.513e-02 | Grad 4.620e-02 \n",
      "265500 / 300000 eps 0.010 |  avgR -0.308 | Loss 6.059e-02 | Grad 4.126e-02 \n",
      "266000 / 300000 eps 0.010 |  avgR -0.397 | Loss 3.600e-02 | Grad 1.913e-02 \n",
      "266500 / 300000 eps 0.010 |  avgR -0.449 | Loss 4.876e-02 | Grad 1.383e-02 \n",
      "267000 / 300000 eps 0.010 |  avgR -0.524 | Loss 3.464e-02 | Grad 1.233e-02 \n",
      "267500 / 300000 eps 0.010 |  avgR -0.781 | Loss 5.396e-02 | Grad 2.506e-02 \n",
      "268000 / 300000 eps 0.010 |  avgR -0.692 | Loss 4.063e-02 | Grad 1.648e-02 \n",
      "268500 / 300000 eps 0.010 |  avgR -0.580 | Loss 3.969e-02 | Grad 1.768e-02 \n",
      "269000 / 300000 eps 0.010 |  avgR -0.334 | Loss 5.266e-02 | Grad 2.188e-02 \n",
      "269500 / 300000 eps 0.010 |  avgR -0.461 | Loss 3.977e-02 | Grad 2.701e-02 \n",
      "270000 / 300000 eps 0.010 |  avgR -0.824 | Loss 4.041e-02 | Grad 5.569e-02 \n",
      "Evaluation ... Avg Reward -1.0332611569744723\n",
      "270500 / 300000 eps 0.010 |  avgR -0.402 | Loss 3.043e-02 | Grad 1.059e-02 \n",
      "271000 / 300000 eps 0.010 |  avgR -0.353 | Loss 3.311e-02 | Grad 1.035e-02 \n",
      "271500 / 300000 eps 0.010 |  avgR -0.495 | Loss 5.493e-02 | Grad 1.886e-02 \n",
      "272000 / 300000 eps 0.010 |  avgR -0.082 | Loss 3.410e-02 | Grad 1.658e-02 \n",
      "272500 / 300000 eps 0.010 |  avgR -0.422 | Loss 4.090e-02 | Grad 1.512e-02 \n",
      "273000 / 300000 eps 0.010 |  avgR -0.516 | Loss 3.724e-02 | Grad 2.602e-02 \n",
      "273500 / 300000 eps 0.010 |  avgR -0.226 | Loss 3.859e-02 | Grad 1.402e-02 \n",
      "274000 / 300000 eps 0.010 |  avgR -0.217 | Loss 3.915e-02 | Grad 2.578e-02 \n",
      "274500 / 300000 eps 0.010 |  avgR -0.139 | Loss 4.688e-02 | Grad 1.899e-02 \n",
      "275000 / 300000 eps 0.010 |  avgR -0.200 | Loss 4.861e-02 | Grad 1.497e-02 \n",
      "275500 / 300000 eps 0.010 |  avgR -0.502 | Loss 2.333e-02 | Grad 1.034e-02 \n",
      "276000 / 300000 eps 0.010 |  avgR -0.565 | Loss 3.669e-02 | Grad 4.973e-02 \n",
      "276500 / 300000 eps 0.010 |  avgR -0.523 | Loss 4.940e-02 | Grad 5.817e-02 \n",
      "277000 / 300000 eps 0.010 |  avgR -0.686 | Loss 4.204e-02 | Grad 1.596e-02 \n",
      "277500 / 300000 eps 0.010 |  avgR -0.421 | Loss 4.114e-02 | Grad 2.513e-02 \n",
      "278000 / 300000 eps 0.010 |  avgR -0.157 | Loss 3.749e-02 | Grad 2.898e-02 \n",
      "278500 / 300000 eps 0.010 |  avgR -0.237 | Loss 5.856e-02 | Grad 1.003e-02 \n",
      "279000 / 300000 eps 0.010 |  avgR -0.149 | Loss 4.171e-02 | Grad 1.913e-02 \n",
      "279500 / 300000 eps 0.010 |  avgR -0.187 | Loss 4.400e-02 | Grad 3.258e-02 \n",
      "280000 / 300000 eps 0.010 |  avgR -0.078 | Loss 3.719e-02 | Grad 2.177e-02 \n",
      "Evaluation ... Avg Reward -1.027008540459913\n",
      "280500 / 300000 eps 0.010 |  avgR -0.255 | Loss 4.109e-02 | Grad 1.670e-02 \n",
      "281000 / 300000 eps 0.010 |  avgR 0.195 | Loss 6.000e-02 | Grad 3.632e-02 \n",
      "281500 / 300000 eps 0.010 |  avgR -0.352 | Loss 4.824e-02 | Grad 9.654e-03 \n",
      "282000 / 300000 eps 0.010 |  avgR -0.060 | Loss 4.495e-02 | Grad 1.515e-02 \n",
      "282500 / 300000 eps 0.010 |  avgR -0.284 | Loss 4.929e-02 | Grad 2.496e-02 \n",
      "283000 / 300000 eps 0.010 |  avgR -0.373 | Loss 4.050e-02 | Grad 9.762e-03 \n",
      "283500 / 300000 eps 0.010 |  avgR -0.060 | Loss 4.179e-02 | Grad 1.004e-02 \n",
      "284000 / 300000 eps 0.010 |  avgR -0.041 | Loss 4.430e-02 | Grad 1.784e-02 \n",
      "284500 / 300000 eps 0.010 |  avgR -0.256 | Loss 4.585e-02 | Grad 1.181e-02 \n",
      "285000 / 300000 eps 0.010 |  avgR -0.215 | Loss 4.872e-02 | Grad 1.594e-02 \n",
      "285500 / 300000 eps 0.010 |  avgR 0.215 | Loss 3.466e-02 | Grad 2.103e-02 \n",
      "286000 / 300000 eps 0.010 |  avgR 0.058 | Loss 3.600e-02 | Grad 4.531e-02 \n",
      "286500 / 300000 eps 0.010 |  avgR -0.207 | Loss 3.093e-02 | Grad 3.010e-02 \n",
      "287000 / 300000 eps 0.010 |  avgR -0.499 | Loss 4.460e-02 | Grad 1.628e-02 \n",
      "287500 / 300000 eps 0.010 |  avgR -0.929 | Loss 3.263e-02 | Grad 1.371e-02 \n",
      "288000 / 300000 eps 0.010 |  avgR -0.305 | Loss 3.090e-02 | Grad 1.628e-02 \n",
      "288500 / 300000 eps 0.010 |  avgR -0.430 | Loss 4.623e-02 | Grad 1.692e-02 \n",
      "289000 / 300000 eps 0.010 |  avgR -0.518 | Loss 3.654e-02 | Grad 4.976e-02 \n",
      "289500 / 300000 eps 0.010 |  avgR -0.529 | Loss 3.854e-02 | Grad 1.734e-02 \n",
      "290000 / 300000 eps 0.010 |  avgR -0.434 | Loss 4.348e-02 | Grad 2.894e-02 \n",
      "Evaluation ... Avg Reward 0.9700041807363293\n",
      "290500 / 300000 eps 0.010 |  avgR -0.305 | Loss 3.610e-02 | Grad 1.138e-02 \n",
      "291000 / 300000 eps 0.010 |  avgR -0.216 | Loss 4.602e-02 | Grad 3.973e-02 \n",
      "291500 / 300000 eps 0.010 |  avgR -0.638 | Loss 3.749e-02 | Grad 9.852e-03 \n",
      "292000 / 300000 eps 0.010 |  avgR -0.490 | Loss 3.450e-02 | Grad 2.022e-02 \n",
      "292500 / 300000 eps 0.010 |  avgR -0.285 | Loss 4.584e-02 | Grad 7.479e-02 \n",
      "293000 / 300000 eps 0.010 |  avgR -0.450 | Loss 6.491e-02 | Grad 1.754e-02 \n",
      "293500 / 300000 eps 0.010 |  avgR -0.635 | Loss 4.644e-02 | Grad 2.120e-02 \n",
      "294000 / 300000 eps 0.010 |  avgR -0.353 | Loss 4.043e-02 | Grad 9.598e-03 \n",
      "294500 / 300000 eps 0.010 |  avgR -0.902 | Loss 2.477e-02 | Grad 1.530e-02 \n",
      "295000 / 300000 eps 0.010 |  avgR -0.614 | Loss 3.607e-02 | Grad 1.690e-02 \n",
      "295500 / 300000 eps 0.010 |  avgR 0.312 | Loss 2.901e-02 | Grad 2.274e-02 \n",
      "296000 / 300000 eps 0.010 |  avgR 0.028 | Loss 4.657e-02 | Grad 9.470e-03 \n",
      "296500 / 300000 eps 0.010 |  avgR -0.573 | Loss 3.505e-02 | Grad 1.699e-02 \n",
      "297000 / 300000 eps 0.010 |  avgR -0.400 | Loss 5.667e-02 | Grad 1.412e-02 \n",
      "297500 / 300000 eps 0.010 |  avgR -0.637 | Loss 2.535e-02 | Grad 1.620e-02 \n",
      "298000 / 300000 eps 0.010 |  avgR -0.501 | Loss 4.341e-02 | Grad 2.362e-02 \n",
      "298500 / 300000 eps 0.010 |  avgR -0.060 | Loss 4.421e-02 | Grad 1.733e-02 \n",
      "299000 / 300000 eps 0.010 |  avgR -0.565 | Loss 5.256e-02 | Grad 1.425e-02 \n",
      "299500 / 300000 eps 0.010 |  avgR -0.304 | Loss 3.565e-02 | Grad 2.107e-02 \n",
      "300000 / 300000 eps 0.010 |  avgR -0.259 | Loss 4.273e-02 | Grad 1.827e-02 \n",
      "Restore model with eval reward 0.970 \n"
     ]
    },
    {
     "data": {
      "text/plain": [
       "NNPolicy{DrivingMDP,Chain{Tuple{Dense{typeof(tanh),TrackedArray{…,Array{Float32,2}},TrackedArray{…,Array{Float32,1}}},Dense{typeof(tanh),TrackedArray{…,Array{Float32,2}},TrackedArray{…,Array{Float32,1}}},Dense{typeof(identity),TrackedArray{…,Array{Float32,2}},TrackedArray{…,Array{Float32,1}}}}},LatLonAccel}(DrivingMDP\n",
       "  r_goal: Float64 1.0\n",
       "  discount_factor: Float64 0.9\n",
       "  cost: Float64 -1.0\n",
       "  road_length: Float64 100.0\n",
       "  roadway: Roadway\n",
       "  delta_t: Float64 1.0\n",
       "  ego_id: Int64 1\n",
       "  timestep: Float64 0.1\n",
       "  n_cars: Int64 3\n",
       "  carcolors: Dict{Int64,Colorant}\n",
       "  models: Dict{Int64,DriverModel}\n",
       "  goal_pos: Frenet\n",
       ", Chain(Dense(12, 32, tanh), Dense(32, 32, tanh), Dense(32, 105)), LatLonAccel[LatLonAccel(-1.000, -2.000), LatLonAccel(-0.900, -2.000), LatLonAccel(-0.800, -2.000), LatLonAccel(-0.700, -2.000), LatLonAccel(-0.600, -2.000), LatLonAccel(-0.500, -2.000), LatLonAccel(-0.400, -2.000), LatLonAccel(-0.300, -2.000), LatLonAccel(-0.200, -2.000), LatLonAccel(-0.100, -2.000)  …  LatLonAccel( 0.100,  2.000), LatLonAccel( 0.200,  2.000), LatLonAccel( 0.300,  2.000), LatLonAccel( 0.400,  2.000), LatLonAccel( 0.500,  2.000), LatLonAccel( 0.600,  2.000), LatLonAccel( 0.700,  2.000), LatLonAccel( 0.800,  2.000), LatLonAccel( 0.900,  2.000), LatLonAccel( 1.000,  2.000)], 1)"
      ]
     },
     "execution_count": 53,
     "metadata": {},
     "output_type": "execute_result"
    }
   ],
   "source": [
    "#run random policies\n",
    "mdp = DrivingMDP()\n",
    "model = Chain(Dense(12, 32, tanh), Dense(32, 32, tanh), Dense(32, n_actions(mdp)))\n",
    "\n",
    "solver = DeepQLearningSolver(qnetwork = model, max_steps=300_000, \n",
    "                             learning_rate=0.001,log_freq=500,\n",
    "                             recurrence=false,double_q=true, dueling=false, prioritized_replay=true, eps_end=0.01,\n",
    "                             target_update_freq = 3000, eps_fraction=0.5, train_start=10000, buffer_size=400000,\n",
    "                             eval_freq=10_000)\n",
    "    # exploration_policy=masked_linear_epsilon_greedy(300_000, 0.5, 0.01))\n",
    "policy = solve(solver, mdp)"
   ]
  },
  {
   "cell_type": "code",
   "execution_count": 54,
   "metadata": {},
   "outputs": [
    {
     "name": "stdout",
     "output_type": "stream",
     "text": [
      "NNPolicy{DrivingMDP,Chain{Tuple{Dense{typeof(tanh),TrackedArray{…,Array{Float32,2}},TrackedArray{…,Array{Float32,1}}},Dense{typeof(tanh),TrackedArray{…,Array{Float32,2}},TrackedArray{…,Array{Float32,1}}},Dense{typeof(identity),TrackedArray{…,Array{Float32,2}},TrackedArray{…,Array{Float32,1}}}}},LatLonAccel}(DrivingMDP\n",
      "  r_goal: Float64 1.0\n",
      "  discount_factor: Float64 0.9\n",
      "  cost: Float64 -1.0\n",
      "  road_length: Float64 100.0\n",
      "  roadway: Roadway\n",
      "  delta_t: Float64 1.0\n",
      "  ego_id: Int64 1\n",
      "  timestep: Float64 0.1\n",
      "  n_cars: Int64 3\n",
      "  carcolors: Dict{Int64,Colorant}\n",
      "  models: Dict{Int64,DriverModel}\n",
      "  goal_pos: Frenet\n",
      ", Chain(Dense(12, 32, tanh), Dense(32, 32, tanh), Dense(32, 105)), LatLonAccel[LatLonAccel(-1.000, -2.000), LatLonAccel(-0.900, -2.000), LatLonAccel(-0.800, -2.000), LatLonAccel(-0.700, -2.000), LatLonAccel(-0.600, -2.000), LatLonAccel(-0.500, -2.000), LatLonAccel(-0.400, -2.000), LatLonAccel(-0.300, -2.000), LatLonAccel(-0.200, -2.000), LatLonAccel(-0.100, -2.000), LatLonAccel( 0.000, -2.000), LatLonAccel( 0.100, -2.000), LatLonAccel( 0.200, -2.000), LatLonAccel( 0.300, -2.000), LatLonAccel( 0.400, -2.000), LatLonAccel( 0.500, -2.000), LatLonAccel( 0.600, -2.000), LatLonAccel( 0.700, -2.000), LatLonAccel( 0.800, -2.000), LatLonAccel( 0.900, -2.000), LatLonAccel( 1.000, -2.000), LatLonAccel(-1.000, -1.000), LatLonAccel(-0.900, -1.000), LatLonAccel(-0.800, -1.000), LatLonAccel(-0.700, -1.000), LatLonAccel(-0.600, -1.000), LatLonAccel(-0.500, -1.000), LatLonAccel(-0.400, -1.000), LatLonAccel(-0.300, -1.000), LatLonAccel(-0.200, -1.000), LatLonAccel(-0.100, -1.000), LatLonAccel( 0.000, -1.000), LatLonAccel( 0.100, -1.000), LatLonAccel( 0.200, -1.000), LatLonAccel( 0.300, -1.000), LatLonAccel( 0.400, -1.000), LatLonAccel( 0.500, -1.000), LatLonAccel( 0.600, -1.000), LatLonAccel( 0.700, -1.000), LatLonAccel( 0.800, -1.000), LatLonAccel( 0.900, -1.000), LatLonAccel( 1.000, -1.000), LatLonAccel(-1.000,  0.000), LatLonAccel(-0.900,  0.000), LatLonAccel(-0.800,  0.000), LatLonAccel(-0.700,  0.000), LatLonAccel(-0.600,  0.000), LatLonAccel(-0.500,  0.000), LatLonAccel(-0.400,  0.000), LatLonAccel(-0.300,  0.000), LatLonAccel(-0.200,  0.000), LatLonAccel(-0.100,  0.000), LatLonAccel( 0.000,  0.000), LatLonAccel( 0.100,  0.000), LatLonAccel( 0.200,  0.000), LatLonAccel( 0.300,  0.000), LatLonAccel( 0.400,  0.000), LatLonAccel( 0.500,  0.000), LatLonAccel( 0.600,  0.000), LatLonAccel( 0.700,  0.000), LatLonAccel( 0.800,  0.000), LatLonAccel( 0.900,  0.000), LatLonAccel( 1.000,  0.000), LatLonAccel(-1.000,  1.000), LatLonAccel(-0.900,  1.000), LatLonAccel(-0.800,  1.000), LatLonAccel(-0.700,  1.000), LatLonAccel(-0.600,  1.000), LatLonAccel(-0.500,  1.000), LatLonAccel(-0.400,  1.000), LatLonAccel(-0.300,  1.000), LatLonAccel(-0.200,  1.000), LatLonAccel(-0.100,  1.000), LatLonAccel( 0.000,  1.000), LatLonAccel( 0.100,  1.000), LatLonAccel( 0.200,  1.000), LatLonAccel( 0.300,  1.000), LatLonAccel( 0.400,  1.000), LatLonAccel( 0.500,  1.000), LatLonAccel( 0.600,  1.000), LatLonAccel( 0.700,  1.000), LatLonAccel( 0.800,  1.000), LatLonAccel( 0.900,  1.000), LatLonAccel( 1.000,  1.000), LatLonAccel(-1.000,  2.000), LatLonAccel(-0.900,  2.000), LatLonAccel(-0.800,  2.000), LatLonAccel(-0.700,  2.000), LatLonAccel(-0.600,  2.000), LatLonAccel(-0.500,  2.000), LatLonAccel(-0.400,  2.000), LatLonAccel(-0.300,  2.000), LatLonAccel(-0.200,  2.000), LatLonAccel(-0.100,  2.000), LatLonAccel( 0.000,  2.000), LatLonAccel( 0.100,  2.000), LatLonAccel( 0.200,  2.000), LatLonAccel( 0.300,  2.000), LatLonAccel( 0.400,  2.000), LatLonAccel( 0.500,  2.000), LatLonAccel( 0.600,  2.000), LatLonAccel( 0.700,  2.000), LatLonAccel( 0.800,  2.000), LatLonAccel( 0.900,  2.000), LatLonAccel( 1.000,  2.000)], 1)"
     ]
    }
   ],
   "source": [
    "using POMDPPolicies\n",
    "policy1 = FunctionPolicy(s -> actions(mdp)[2])\n",
    "hr = HistoryRecorder(max_steps=100)\n",
    "history = simulate(hr, mdp, policy, POMDPs.initialstate(mdp, MersenneTwister(1)));\n",
    "print(policy)"
   ]
  },
  {
   "cell_type": "code",
   "execution_count": 55,
   "metadata": {},
   "outputs": [
    {
     "data": {
      "text/html": [
       "<div class='tex2jax_ignore interactbulma'>\n",
       "<div class='display:none'></div><unsafe-script style='display:none'>\n",
       "WebIO.mount(this.previousSibling,{&quot;props&quot;:{},&quot;nodeType&quot;:&quot;DOM&quot;,&quot;type&quot;:&quot;node&quot;,&quot;instanceArgs&quot;:{&quot;namespace&quot;:&quot;html&quot;,&quot;tag&quot;:&quot;div&quot;},&quot;children&quot;:[{&quot;props&quot;:{&quot;className&quot;:&quot;field&quot;},&quot;nodeType&quot;:&quot;DOM&quot;,&quot;type&quot;:&quot;node&quot;,&quot;instanceArgs&quot;:{&quot;namespace&quot;:&quot;html&quot;,&quot;tag&quot;:&quot;div&quot;},&quot;children&quot;:[{&quot;props&quot;:{},&quot;nodeType&quot;:&quot;Scope&quot;,&quot;type&quot;:&quot;node&quot;,&quot;instanceArgs&quot;:{&quot;imports&quot;:{&quot;data&quot;:[{&quot;name&quot;:&quot;knockout&quot;,&quot;type&quot;:&quot;js&quot;,&quot;url&quot;:&quot;/assetserver/61a9f67ba69555efae2cea8d149efd17e512c51c-knockout.js&quot;},{&quot;name&quot;:&quot;knockout_punches&quot;,&quot;type&quot;:&quot;js&quot;,&quot;url&quot;:&quot;/assetserver/649013d3a15d9fd4732b810fea33e964579b2cb2-knockout_punches.js&quot;},{&quot;name&quot;:null,&quot;type&quot;:&quot;js&quot;,&quot;url&quot;:&quot;/assetserver/b322e5ee767357a09f606d7654a48f7162c3189d-all.js&quot;},{&quot;name&quot;:null,&quot;type&quot;:&quot;css&quot;,&quot;url&quot;:&quot;/assetserver/e5cd33a55833c7945db8a2bc43edaa09d50c20eb-style.css&quot;},{&quot;name&quot;:null,&quot;type&quot;:&quot;css&quot;,&quot;url&quot;:&quot;/assetserver/71b3f0054d5835d4414dd917b471626e26ef2ef5-main.css&quot;}],&quot;type&quot;:&quot;async_block&quot;},&quot;id&quot;:&quot;knockout-component-ae776fa7-8eb2-42d5-9548-eee8cf47fc47&quot;,&quot;handlers&quot;:{&quot;_promises&quot;:{&quot;importsLoaded&quot;:[function (ko, koPunches) {\n",
       "    ko.punches.enableAll();\n",
       "    ko.bindingHandlers.numericValue = {\n",
       "        init : function(element, valueAccessor, allBindings, data, context) {\n",
       "            var stringified = ko.observable(ko.unwrap(valueAccessor()));\n",
       "            stringified.subscribe(function(value) {\n",
       "                var val = parseFloat(value);\n",
       "                if (!isNaN(val)) {\n",
       "                    valueAccessor()(val);\n",
       "                }\n",
       "            })\n",
       "            valueAccessor().subscribe(function(value) {\n",
       "                var str = JSON.stringify(value);\n",
       "                if ((str == &quot;0&quot;) &amp;&amp; ([&quot;-0&quot;, &quot;-0.&quot;].indexOf(stringified()) &gt;= 0))\n",
       "                     return;\n",
       "                 if ([&quot;null&quot;, &quot;&quot;].indexOf(str) &gt;= 0)\n",
       "                     return;\n",
       "                stringified(str);\n",
       "            })\n",
       "            ko.applyBindingsToNode(element, { value: stringified, valueUpdate: allBindings.get(&#39;valueUpdate&#39;)}, context);\n",
       "        }\n",
       "    };\n",
       "    var json_data = JSON.parse(&quot;{\\&quot;changes\\&quot;:0,\\&quot;value\\&quot;:4}&quot;);\n",
       "    var self = this;\n",
       "    function AppViewModel() {\n",
       "        for (var key in json_data) {\n",
       "            var el = json_data[key];\n",
       "            this[key] = Array.isArray(el) ? ko.observableArray(el) : ko.observable(el);\n",
       "        }\n",
       "        \n",
       "        \n",
       "        [this[&quot;changes&quot;].subscribe((function (val){!(this.valueFromJulia[&quot;changes&quot;]) ? (WebIO.setval({&quot;name&quot;:&quot;changes&quot;,&quot;scope&quot;:&quot;knockout-component-ae776fa7-8eb2-42d5-9548-eee8cf47fc47&quot;,&quot;id&quot;:&quot;ob_27&quot;,&quot;type&quot;:&quot;observable&quot;},val)) : undefined; return this.valueFromJulia[&quot;changes&quot;]=false}),self),this[&quot;value&quot;].subscribe((function (val){!(this.valueFromJulia[&quot;value&quot;]) ? (WebIO.setval({&quot;name&quot;:&quot;value&quot;,&quot;scope&quot;:&quot;knockout-component-ae776fa7-8eb2-42d5-9548-eee8cf47fc47&quot;,&quot;id&quot;:&quot;ob_26&quot;,&quot;type&quot;:&quot;observable&quot;},val)) : undefined; return this.valueFromJulia[&quot;value&quot;]=false}),self)]\n",
       "        \n",
       "    }\n",
       "    self.model = new AppViewModel();\n",
       "    self.valueFromJulia = {};\n",
       "    for (var key in json_data) {\n",
       "        self.valueFromJulia[key] = false;\n",
       "    }\n",
       "    ko.applyBindings(self.model, self.dom);\n",
       "}\n",
       "]},&quot;changes&quot;:[(function (val){return (val!=this.model[&quot;changes&quot;]()) ? (this.valueFromJulia[&quot;changes&quot;]=true, this.model[&quot;changes&quot;](val)) : undefined})],&quot;value&quot;:[(function (val){return (val!=this.model[&quot;value&quot;]()) ? (this.valueFromJulia[&quot;value&quot;]=true, this.model[&quot;value&quot;](val)) : undefined})]},&quot;systemjs_options&quot;:null,&quot;observables&quot;:{&quot;changes&quot;:{&quot;sync&quot;:false,&quot;id&quot;:&quot;ob_27&quot;,&quot;value&quot;:0},&quot;value&quot;:{&quot;sync&quot;:true,&quot;id&quot;:&quot;ob_26&quot;,&quot;value&quot;:4}}},&quot;children&quot;:[{&quot;props&quot;:{&quot;attributes&quot;:{&quot;class&quot;:&quot;interact-flex-row&quot;}},&quot;nodeType&quot;:&quot;DOM&quot;,&quot;type&quot;:&quot;node&quot;,&quot;instanceArgs&quot;:{&quot;namespace&quot;:&quot;html&quot;,&quot;tag&quot;:&quot;div&quot;},&quot;children&quot;:[{&quot;props&quot;:{&quot;attributes&quot;:{&quot;class&quot;:&quot;interact-flex-row-left&quot;}},&quot;nodeType&quot;:&quot;DOM&quot;,&quot;type&quot;:&quot;node&quot;,&quot;instanceArgs&quot;:{&quot;namespace&quot;:&quot;html&quot;,&quot;tag&quot;:&quot;div&quot;},&quot;children&quot;:[{&quot;props&quot;:{&quot;className&quot;:&quot;interact &quot;,&quot;style&quot;:{&quot;padding&quot;:&quot;5px 10px 0px 10px&quot;}},&quot;nodeType&quot;:&quot;DOM&quot;,&quot;type&quot;:&quot;node&quot;,&quot;instanceArgs&quot;:{&quot;namespace&quot;:&quot;html&quot;,&quot;tag&quot;:&quot;label&quot;},&quot;children&quot;:[&quot;frame_index&quot;]}]},{&quot;props&quot;:{&quot;attributes&quot;:{&quot;class&quot;:&quot;interact-flex-row-center&quot;}},&quot;nodeType&quot;:&quot;DOM&quot;,&quot;type&quot;:&quot;node&quot;,&quot;instanceArgs&quot;:{&quot;namespace&quot;:&quot;html&quot;,&quot;tag&quot;:&quot;div&quot;},&quot;children&quot;:[{&quot;props&quot;:{&quot;max&quot;:7,&quot;min&quot;:1,&quot;attributes&quot;:{&quot;type&quot;:&quot;range&quot;,&quot;data-bind&quot;:&quot;numericValue: value, valueUpdate: &#39;input&#39;, event: {change : function () {this.changes(this.changes()+1)}}&quot;,&quot;orient&quot;:&quot;horizontal&quot;},&quot;step&quot;:1,&quot;className&quot;:&quot;slider slider is-fullwidth&quot;,&quot;style&quot;:{}},&quot;nodeType&quot;:&quot;DOM&quot;,&quot;type&quot;:&quot;node&quot;,&quot;instanceArgs&quot;:{&quot;namespace&quot;:&quot;html&quot;,&quot;tag&quot;:&quot;input&quot;},&quot;children&quot;:[]}]},{&quot;props&quot;:{&quot;attributes&quot;:{&quot;class&quot;:&quot;interact-flex-row-right&quot;}},&quot;nodeType&quot;:&quot;DOM&quot;,&quot;type&quot;:&quot;node&quot;,&quot;instanceArgs&quot;:{&quot;namespace&quot;:&quot;html&quot;,&quot;tag&quot;:&quot;div&quot;},&quot;children&quot;:[{&quot;props&quot;:{&quot;attributes&quot;:{&quot;data-bind&quot;:&quot;text: value&quot;}},&quot;nodeType&quot;:&quot;DOM&quot;,&quot;type&quot;:&quot;node&quot;,&quot;instanceArgs&quot;:{&quot;namespace&quot;:&quot;html&quot;,&quot;tag&quot;:&quot;p&quot;},&quot;children&quot;:[]}]}]}]}]},{&quot;props&quot;:{},&quot;nodeType&quot;:&quot;Scope&quot;,&quot;type&quot;:&quot;node&quot;,&quot;instanceArgs&quot;:{&quot;imports&quot;:{&quot;data&quot;:[],&quot;type&quot;:&quot;async_block&quot;},&quot;id&quot;:&quot;scope-6f2b8715-e516-4d89-88db-c3e4d34cc4a5&quot;,&quot;handlers&quot;:{&quot;obs-output&quot;:[function (updated_htmlstr) {\n",
       "    var el = this.dom.querySelector(&quot;#out&quot;);\n",
       "    WebIO.propUtils.setInnerHtml(el, updated_htmlstr);\n",
       "}]},&quot;systemjs_options&quot;:null,&quot;observables&quot;:{&quot;obs-output&quot;:{&quot;sync&quot;:false,&quot;id&quot;:&quot;ob_30&quot;,&quot;value&quot;:&quot;&lt;div class=&#39;display:none&#39;&gt;&lt;/div&gt;&lt;unsafe-script style=&#39;display:none&#39;&gt;\\nWebIO.mount(this.previousSibling,{&amp;quot;props&amp;quot;:{&amp;quot;attributes&amp;quot;:{&amp;quot;class&amp;quot;:&amp;quot;interact-flex-row&amp;quot;}},&amp;quot;nodeType&amp;quot;:&amp;quot;DOM&amp;quot;,&amp;quot;type&amp;quot;:&amp;quot;node&amp;quot;,&amp;quot;instanceArgs&amp;quot;:{&amp;quot;namespace&amp;quot;:&amp;quot;html&amp;quot;,&amp;quot;tag&amp;quot;:&amp;quot;div&amp;quot;},&amp;quot;children&amp;quot;:[{&amp;quot;props&amp;quot;:{&amp;quot;setInnerHtml&amp;quot;:&amp;quot;&amp;lt;img src=&amp;#39;data:image/png;base64,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&amp;#39;&amp;gt;&amp;lt;/img&amp;gt;&amp;quot;},&amp;quot;nodeType&amp;quot;:&amp;quot;DOM&amp;quot;,&amp;quot;type&amp;quot;:&amp;quot;node&amp;quot;,&amp;quot;instanceArgs&amp;quot;:{&amp;quot;namespace&amp;quot;:&amp;quot;html&amp;quot;,&amp;quot;tag&amp;quot;:&amp;quot;div&amp;quot;},&amp;quot;children&amp;quot;:[]}]})&lt;/unsafe-script&gt;&quot;}}},&quot;children&quot;:[{&quot;props&quot;:{&quot;id&quot;:&quot;out&quot;,&quot;setInnerHtml&quot;:&quot;&lt;div class=&#39;display:none&#39;&gt;&lt;/div&gt;&lt;unsafe-script style=&#39;display:none&#39;&gt;\\nWebIO.mount(this.previousSibling,{&amp;quot;props&amp;quot;:{&amp;quot;attributes&amp;quot;:{&amp;quot;class&amp;quot;:&amp;quot;interact-flex-row&amp;quot;}},&amp;quot;nodeType&amp;quot;:&amp;quot;DOM&amp;quot;,&amp;quot;type&amp;quot;:&amp;quot;node&amp;quot;,&amp;quot;instanceArgs&amp;quot;:{&amp;quot;namespace&amp;quot;:&amp;quot;html&amp;quot;,&amp;quot;tag&amp;quot;:&amp;quot;div&amp;quot;},&amp;quot;children&amp;quot;:[{&amp;quot;props&amp;quot;:{&amp;quot;setInnerHtml&amp;quot;:&amp;quot;&amp;lt;img src=&amp;#39;data:image/png;base64,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&amp;#39;&amp;gt;&amp;lt;/img&amp;gt;&amp;quot;},&amp;quot;nodeType&amp;quot;:&amp;quot;DOM&amp;quot;,&amp;quot;type&amp;quot;:&amp;quot;node&amp;quot;,&amp;quot;instanceArgs&amp;quot;:{&amp;quot;namespace&amp;quot;:&amp;quot;html&amp;quot;,&amp;quot;tag&amp;quot;:&amp;quot;div&amp;quot;},&amp;quot;children&amp;quot;:[]}]})&lt;/unsafe-script&gt;&quot;},&quot;nodeType&quot;:&quot;DOM&quot;,&quot;type&quot;:&quot;node&quot;,&quot;instanceArgs&quot;:{&quot;namespace&quot;:&quot;html&quot;,&quot;tag&quot;:&quot;div&quot;},&quot;children&quot;:[]}]}]})</unsafe-script>\n",
       "</div>"
      ],
      "text/plain": [
       "Widget{:manipulate,Any}(OrderedDict{Symbol,Any}(:frame_index=>Widget{:slider,Int64}(OrderedDict{Symbol,Any}(:changes=>Observable{Int64} with 1 listeners. Value:\n",
       "0,:value=>Observable{Int64} with 2 listeners. Value:\n",
       "4), Observable{Int64} with 2 listeners. Value:\n",
       "4, Scope(\"knockout-component-ae776fa7-8eb2-42d5-9548-eee8cf47fc47\", Node{DOM}(DOM(:html, :div), Any[Node{DOM}(DOM(:html, :div), Any[Node{DOM}(DOM(:html, :label), Any[\"frame_index\"], Dict{Symbol,Any}(:className=>\"interact \",:style=>Dict{Any,Any}(:padding=>\"5px 10px 0px 10px\")), 1)], Dict{Symbol,Any}(:attributes=>Dict(\"class\"=>\"interact-flex-row-left\")), 2), Node{DOM}(DOM(:html, :div), Any[Node{DOM}(DOM(:html, :input), Any[], Dict{Symbol,Any}(:max=>7,:min=>1,:attributes=>Dict{Any,Any}(:type=>\"range\",Symbol(\"data-bind\")=>\"numericValue: value, valueUpdate: 'input', event: {change : function () {this.changes(this.changes()+1)}}\",\"orient\"=>\"horizontal\"),:step=>1,:className=>\"slider slider is-fullwidth\",:style=>Dict{Any,Any}()), 0)], Dict{Symbol,Any}(:attributes=>Dict(\"class\"=>\"interact-flex-row-center\")), 1), Node{DOM}(DOM(:html, :div), Any[Node{DOM}(DOM(:html, :p), Any[], Dict{Symbol,Any}(:attributes=>Dict(\"data-bind\"=>\"text: value\")), 0)], Dict{Symbol,Any}(:attributes=>Dict(\"class\"=>\"interact-flex-row-right\")), 1)], Dict{Symbol,Any}(:attributes=>Dict(\"class\"=>\"interact-flex-row\")), 7), Dict{String,Tuple{Observables.AbstractObservable,Union{Nothing, Bool}}}(\"changes\"=>(Observable{Int64} with 1 listeners. Value:\n",
       "0, nothing),\"value\"=>(Observable{Int64} with 2 listeners. Value:\n",
       "4, nothing)), Set(String[]), nothing, Any[\"knockout\"=>\"/Users/pegasus/.julia/packages/Knockout/JIqpG/src/../assets/knockout.js\", \"knockout_punches\"=>\"/Users/pegasus/.julia/packages/Knockout/JIqpG/src/../assets/knockout_punches.js\", \"/Users/pegasus/.julia/packages/InteractBase/PTCUD/src/../assets/all.js\", \"/Users/pegasus/.julia/packages/InteractBase/PTCUD/src/../assets/style.css\", \"/Users/pegasus/.julia/packages/InteractBulma/PH56C/src/../assets/main.css\"], Dict{Any,Any}(\"_promises\"=>Dict{Any,Any}(\"importsLoaded\"=>Any[JSString(\"function (ko, koPunches) {\\n    ko.punches.enableAll();\\n    ko.bindingHandlers.numericValue = {\\n        init : function(element, valueAccessor, allBindings, data, context) {\\n            var stringified = ko.observable(ko.unwrap(valueAccessor()));\\n            stringified.subscribe(function(value) {\\n                var val = parseFloat(value);\\n                if (!isNaN(val)) {\\n                    valueAccessor()(val);\\n                }\\n            })\\n            valueAccessor().subscribe(function(value) {\\n                var str = JSON.stringify(value);\\n                if ((str == \\\"0\\\") && ([\\\"-0\\\", \\\"-0.\\\"].indexOf(stringified()) >= 0))\\n                     return;\\n                 if ([\\\"null\\\", \\\"\\\"].indexOf(str) >= 0)\\n                     return;\\n                stringified(str);\\n            })\\n            ko.applyBindingsToNode(element, { value: stringified, valueUpdate: allBindings.get('valueUpdate')}, context);\\n        }\\n    };\\n    var json_data = JSON.parse(\\\"{\\\\\\\"changes\\\\\\\":0,\\\\\\\"value\\\\\\\":4}\\\");\\n    var self = this;\\n    function AppViewModel() {\\n        for (var key in json_data) {\\n            var el = json_data[key];\\n            this[key] = Array.isArray(el) ? ko.observableArray(el) : ko.observable(el);\\n        }\\n        \\n        \\n        [this[\\\"changes\\\"].subscribe((function (val){!(this.valueFromJulia[\\\"changes\\\"]) ? (WebIO.setval({\\\"name\\\":\\\"changes\\\",\\\"scope\\\":\\\"knockout-component-ae776fa7-8eb2-42d5-9548-eee8cf47fc47\\\",\\\"id\\\":\\\"ob_27\\\",\\\"type\\\":\\\"observable\\\"},val)) : undefined; return this.valueFromJulia[\\\"changes\\\"]=false}),self),this[\\\"value\\\"].subscribe((function (val){!(this.valueFromJulia[\\\"value\\\"]) ? (WebIO.setval({\\\"name\\\":\\\"value\\\",\\\"scope\\\":\\\"knockout-component-ae776fa7-8eb2-42d5-9548-eee8cf47fc47\\\",\\\"id\\\":\\\"ob_26\\\",\\\"type\\\":\\\"observable\\\"},val)) : undefined; return this.valueFromJulia[\\\"value\\\"]=false}),self)]\\n        \\n    }\\n    self.model = new AppViewModel();\\n    self.valueFromJulia = {};\\n    for (var key in json_data) {\\n        self.valueFromJulia[key] = false;\\n    }\\n    ko.applyBindings(self.model, self.dom);\\n}\\n\")]),\"changes\"=>Any[JSString(\"(function (val){return (val!=this.model[\\\"changes\\\"]()) ? (this.valueFromJulia[\\\"changes\\\"]=true, this.model[\\\"changes\\\"](val)) : undefined})\")],\"value\"=>Any[JSString(\"(function (val){return (val!=this.model[\\\"value\\\"]()) ? (this.valueFromJulia[\\\"value\\\"]=true, this.model[\\\"value\\\"](val)) : undefined})\")]), ConnectionPool(Channel{Any}(sz_max:9223372036854775807,sz_curr:3), Set(AbstractConnection[]), Channel{AbstractConnection}(sz_max:32,sz_curr:0))), ##52#53{#dom#15{##dom#13#14{Dict{Any,Any},DOM}},typeof(scope)}(#dom#15{##dom#13#14{Dict{Any,Any},DOM}}(##dom#13#14{Dict{Any,Any},DOM}(Dict{Any,Any}(:className=>\"field\"), DOM(:html, :div))), scope))), Observable{Any} with 0 listeners. Value:\n",
       "Cairo.CairoSurfaceBase{UInt32}(Ptr{Nothing} @0x00007fb18f41c130, 1000.0, 600.0), nothing, getfield(InteractBase, Symbol(\"##142#143\"))())"
      ]
     },
     "execution_count": 55,
     "metadata": {},
     "output_type": "execute_result"
    }
   ],
   "source": [
    "@manipulate for frame_index in 1 : n_steps(history)\n",
    "    AutoViz.render(history.state_hist[frame_index], mdp.roadway, cam=FitToContentCamera(), car_colors=carcolors)\n",
    "end\n",
    "# print(history.state_hist[end])"
   ]
  },
  {
   "cell_type": "code",
   "execution_count": 56,
   "metadata": {},
   "outputs": [
    {
     "data": {
      "text/plain": [
       "true"
      ]
     },
     "execution_count": 56,
     "metadata": {},
     "output_type": "execute_result"
    }
   ],
   "source": [
    "s = history.state_hist[end]\n",
    "isterminal(mdp, s)\n",
    "# off_road(s, mdp)\n",
    "reachgoal(s, mdp)"
   ]
  },
  {
   "cell_type": "code",
   "execution_count": 38,
   "metadata": {},
   "outputs": [
    {
     "data": {
      "text/plain": [
       "Vehicle(1, VehicleState(VecSE2({84.000, -1.700}, -0.351), Frenet(RoadIndex({1, 0.840000}, {1, 1}), 84.000, -1.700, -0.351), 6.391), VehicleDef(CAR, 4.000, 1.800))"
      ]
     },
     "execution_count": 38,
     "metadata": {},
     "output_type": "execute_result"
    }
   ],
   "source": [
    "ego = get_ego(s)"
   ]
  },
  {
   "cell_type": "code",
   "execution_count": 39,
   "metadata": {},
   "outputs": [
    {
     "data": {
      "text/plain": [
       "-1.7000000000000006"
      ]
     },
     "execution_count": 39,
     "metadata": {},
     "output_type": "execute_result"
    }
   ],
   "source": [
    "ego.state.posF.t"
   ]
  },
  {
   "cell_type": "code",
   "execution_count": null,
   "metadata": {},
   "outputs": [],
   "source": []
  }
 ],
 "metadata": {
  "kernelspec": {
   "display_name": "Julia 1.0.0",
   "language": "julia",
   "name": "julia-1.0"
  },
  "language_info": {
   "file_extension": ".jl",
   "mimetype": "application/julia",
   "name": "julia",
   "version": "1.0.0"
  }
 },
 "nbformat": 4,
 "nbformat_minor": 2
}
